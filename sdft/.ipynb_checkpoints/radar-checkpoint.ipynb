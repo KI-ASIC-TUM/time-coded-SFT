{
 "cells": [
  {
   "cell_type": "code",
   "execution_count": 1,
   "id": "sweet-brooklyn",
   "metadata": {},
   "outputs": [],
   "source": [
    "import numpy as np\n",
    "import os\n",
    "import time\n",
    "import random\n",
    "import sys\n",
    "import json\n",
    "import pathlib"
   ]
  },
  {
   "cell_type": "code",
   "execution_count": 2,
   "id": "flexible-logan",
   "metadata": {},
   "outputs": [],
   "source": [
    "### get data\n",
    "\n",
    "def get_datacube(filename):\n",
    "    \"\"\"\n",
    "    Read file with the BBM simulator data and arrange it in a data cube\n",
    "    \"\"\"\n",
    "    data_cube = None\n",
    "    with open(str(filename), \"r\") as f:\n",
    "        data = f.readlines()\n",
    "    for row in data:\n",
    "        row = row.split(\",\")\n",
    "        row[-1] = row[-1].strip(\"\\n\")\n",
    "        row_arr = np.array(row).astype(np.float)\n",
    "        # Construct the data cube. First iteration creates an array\n",
    "        # following iterations stack on top\n",
    "        if data_cube is None:\n",
    "            data_cube = np.array(row_arr)\n",
    "        else:\n",
    "            data_cube = np.vstack((data_cube, row_arr))\n",
    "    # Only the 900 first samples contain information\n",
    "    data_cube = data_cube.transpose()[:, :900]\n",
    "    return data_cube"
   ]
  },
  {
   "cell_type": "code",
   "execution_count": 3,
   "id": "rental-publicity",
   "metadata": {},
   "outputs": [],
   "source": [
    "def bbm_read(path):\n",
    "    \"\"\"\n",
    "    Extract output of BBM. Either single of multiple channel files\n",
    "    \"\"\"\n",
    "    filenames = []\n",
    "    if path.is_file():\n",
    "        filenames = [path]\n",
    "    else:\n",
    "        filenames = [file for file in path.iterdir() if file.name[-4:]==\".txt\"]\n",
    "    data_cubes = [get_datacube(fname) for fname in filenames]\n",
    "    return data_cubes"
   ]
  },
  {
   "cell_type": "code",
   "execution_count": 4,
   "id": "unlikely-security",
   "metadata": {},
   "outputs": [],
   "source": [
    "def load_config(config_file):\n",
    "    \"\"\"\n",
    "    Load the configuration file with the simulation parameters\n",
    "\n",
    "    @param conf_file: str with the relative address of the config file\n",
    "    @param dims: Number of Fourier dimensions of the experiment \n",
    "    \"\"\"\n",
    "    # Load configuaration data from local file\n",
    "    with open(config_file) as f:\n",
    "        config_data = json.load(f)\n",
    "    fname = config_data[\"filename\"]\n",
    "    fpath = pathlib.Path().resolve().joinpath(fname)\n",
    "    print(fpath)\n",
    "    dft_args = config_data[\"dft_encoding_parameters\"]\n",
    "    return (fpath, dft_args)"
   ]
  },
  {
   "cell_type": "code",
   "execution_count": 5,
   "id": "pending-ready",
   "metadata": {},
   "outputs": [],
   "source": [
    "def normalize(input_data):\n",
    "    \"\"\"\n",
    "    Convert the input data to the range [0..1]\n",
    "    \"\"\"\n",
    "    min_value = input_data.min()\n",
    "    # Remove bias from the input signal\n",
    "    no_offset = input_data - min_value\n",
    "    # Normalize to [0..1]\n",
    "    max_value = no_offset.max()\n",
    "    normalized = no_offset / max_value\n",
    "    return normalized"
   ]
  },
  {
   "cell_type": "code",
   "execution_count": 6,
   "id": "descending-aside",
   "metadata": {},
   "outputs": [
    {
     "ename": "SyntaxError",
     "evalue": "invalid syntax (<ipython-input-6-48e399fa39de>, line 10)",
     "output_type": "error",
     "traceback": [
      "\u001b[0;36m  File \u001b[0;32m\"<ipython-input-6-48e399fa39de>\"\u001b[0;36m, line \u001b[0;32m10\u001b[0m\n\u001b[0;31m    encoded_cube = encoder(normalized_cube)18\u001b[0m\n\u001b[0m                                            ^\u001b[0m\n\u001b[0;31mSyntaxError\u001b[0m\u001b[0;31m:\u001b[0m invalid syntax\n"
     ]
    }
   ],
   "source": [
    "def linear_rate_encoding(raw_data, encoding_params):\n",
    "    \"\"\"\n",
    "    Normalize and encode input data using the LinearFrequencyEncoder\n",
    "    \"\"\"\n",
    "    # Normalize all samples between 0 and 1, based on global max and min values\n",
    "    normalized_cube = normalize(raw_data)\n",
    "    # Encode the voltage to spikes using rate encoding\n",
    "    encoder = encoding.LinearFrequencyEncoder(**encoding_params,\n",
    "                                              random_init=True)\n",
    "    encoded_cube = encoder(normalized_cube)\n",
    "    return encoded_cube"
   ]
  },
  {
   "cell_type": "code",
   "execution_count": null,
   "id": "respective-satisfaction",
   "metadata": {},
   "outputs": [],
   "source": [
    "def data_encoding(raw_data, coding_params):\n",
    "    \"\"\"\n",
    "    Normalize and encode input data using the LinearFrequencyEncoder\n",
    "    \"\"\"\n",
    "    # Normalize all samples between 0 and 1, based on global max and min values\n",
    "    normalized_cube = normalize(raw_data)\n",
    "    encoder = encoding.TimeEncoder(**coding_params)\n",
    "    encoded_data = encoder(normalized_cube)\n",
    "    return encoded_data"
   ]
  }
 ],
 "metadata": {
  "kernelspec": {
   "display_name": "Python 3",
   "language": "python",
   "name": "python3"
  },
  "language_info": {
   "codemirror_mode": {
    "name": "ipython",
    "version": 3
   },
   "file_extension": ".py",
   "mimetype": "text/x-python",
   "name": "python",
   "nbconvert_exporter": "python",
   "pygments_lexer": "ipython3",
   "version": "3.5.2"
  }
 },
 "nbformat": 4,
 "nbformat_minor": 5
}
