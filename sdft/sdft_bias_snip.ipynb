{
 "cells": [
  {
   "cell_type": "code",
   "execution_count": 1,
   "id": "entertaining-spice",
   "metadata": {},
   "outputs": [],
   "source": [
    "import numpy as np\n",
    "import os\n",
    "import time\n",
    "import matplotlib.pyplot as plt\n",
    "import random\n",
    "import sys\n",
    "import json\n",
    "import pathlib\n",
    "\n",
    "import nxsdk.api.n2a as nx\n",
    "\n",
    "import encoding\n",
    "import radar"
   ]
  },
  {
   "cell_type": "code",
   "execution_count": 2,
   "id": "hindu-popularity",
   "metadata": {},
   "outputs": [
    {
     "name": "stdout",
     "output_type": "stream",
     "text": [
      "/home/negin/miniconda2/envs/loihi/nxsdk-apps/tutorials/ipython/sdft/data/BBM/scenario4/samples_ch_3_scenario4.txt\n",
      "128\n",
      "900\n"
     ]
    }
   ],
   "source": [
    "# Only the 900 first samples contain information\n",
    "# lin rate encoding \n",
    "# config_file = \"scenario1_default.json\"\n",
    "#ttsp encoding\n",
    "config_file = \"scenario4_timecoding.json\"\n",
    "fpath, dft_args = radar.load_config(config_file)\n",
    "data_cube = radar.bbm_read(fpath)\n",
    "print(len(data_cube[0]))\n",
    "#### only 1D\n",
    "chirp_n = 77\n",
    "raw_data = [channel[chirp_n] for channel in data_cube]\n",
    "print(len(raw_data[0]))\n",
    "\n",
    "n_samples = 100\n",
    "#n_samples = raw_data[0].size\n",
    "n_chirps = 1\n",
    "\n",
    "### list with len 900\n",
    "encoded_cube = [radar.data_encoding(ch, dft_args) for ch in raw_data]\n",
    "#linear_rate_encoding(raw_data, dft_args).astype(int)\n",
    "#print(encoded_cube)"
   ]
  },
  {
   "cell_type": "code",
   "execution_count": 3,
   "id": "interpreted-smell",
   "metadata": {},
   "outputs": [],
   "source": [
    "net = nx.NxNet()\n",
    "\n",
    "\n",
    "\n",
    "###### TEST\n",
    "\n",
    "# Create a single compartment\n",
    "cxProto = nx.CompartmentPrototype(vThMant=150,\n",
    "                                  biasMant = 0,\n",
    "                                  biasExp = 6,\n",
    "                                  compartmentVoltageDecay=0,\n",
    "                                  compartmentCurrentDecay=4095,\n",
    "                                  functionalState=2,\n",
    "                                  logicalCoreId=0)\n",
    "cx = net.createCompartmentGroup(size=1, prototype=cxProto)\n",
    "\n",
    "# Create spike generator and schedule spikes every 'dt' time steps to be sent to the compartment\n",
    "sg = net.createSpikeGenProcess(numPorts=1)\n",
    "\n",
    "# Connect spike generator to compartment\n",
    "connProto = nx.ConnectionPrototype(weight=10)\n",
    "sg.connect(cx, prototype=connProto)\n",
    "\n",
    "\n",
    "uProbe = cx.probe(nx.ProbeParameter.COMPARTMENT_CURRENT)[0][0]\n",
    "vProbe = cx.probe(nx.ProbeParameter.COMPARTMENT_VOLTAGE)[0][0]\n",
    "sProbe = cx.probe(nx.ProbeParameter.SPIKE)[0][0]\n",
    "\n",
    "\n",
    "\n",
    "\n",
    "\n",
    "\n",
    "\n",
    "\n",
    "\n",
    "\n",
    "\n",
    "ingen = net.createSpikeGenProcess(numPorts=n_samples)\n",
    "\n",
    "l1 = []\n",
    "l1_g = net.createCompartmentGroup()\n",
    "for i in range(n_samples):\n",
    "    l1_p = nx.CompartmentPrototype(vThMant=1000,\n",
    "                                   biasMant = 0,\n",
    "                                   biasExp = 6,\n",
    "                                   compartmentCurrentDecay=4095,\n",
    "                                   compartmentVoltageDecay=0,\n",
    "                                   functionalState=2,\n",
    "                                   logicalCoreId=int(i/10))\n",
    "    l1.append(net.createCompartment(prototype=l1_p))\n",
    "l1_g.addCompartments(l1)\n",
    "\n",
    "\n",
    "#l2 = []\n",
    "#l2_g = net.createCompartmentGroup()\n",
    "#for i in range(n_samples):\n",
    "#    l2_p = nx.CompartmentPrototype(vThMant=10,\n",
    "#                                   biasMant = 0,\n",
    "#                                   biasExp = 6,\n",
    "#                                   compartmentCurrentDecay=4095,\n",
    "#                                   compartmentVoltageDecay=0,\n",
    "#                                   functionalState=2,\n",
    "#                                   logicalCoreId=int(i/30))\n",
    "#    l2.append(net.createCompartment(prototype=l2_p))\n",
    "#l2_g.addCompartments(l2)\n",
    "\n",
    "\n",
    "\n",
    "# Connect spike generators to compartments\n",
    "in_l1 = nx.ConnectionPrototype()\n",
    "#l1_l2 = nx.ConnectionPrototype()\n",
    "\n",
    "\n",
    "diag = np.zeros((n_samples,n_samples), int)\n",
    "np.fill_diagonal(diag, 1)\n",
    "#array_data = np.array(encoded_cube)\n",
    "#in_l1_w = diag * array_data\n",
    "in_l1_w = diag\n",
    "#print(array_data)\n",
    "\n",
    "#l1_l2_w = np.ones((n_samples,n_samples), int)\n",
    "\n",
    "ingen.connect(l1_g, prototype=in_l1, weight=in_l1_w*100)\n",
    "#l1_g.connect(l2_g, prototype=l1_l2, weight=l1_l2_w*100)\n",
    "\n",
    "# weights are FT weights....\n",
    "# and when we have all the input... then charging phase...\n",
    "\n",
    "    \n",
    "l1_p_v = []\n",
    "#l1_p_s = []\n",
    "#l2_p_v = []\n",
    "#l2_p_s = []\n",
    "#l1_ran = np.random.choice(n_samples, 10)\n",
    "l1_ran = np.arange(0,100,1)\n",
    "#l2_ran = np.random.choice(900, 10)\n",
    "\n",
    "for i in l1_ran:\n",
    "    l1_p_v.append(l1_g.probe(nx.ProbeParameter.COMPARTMENT_VOLTAGE)[0][i])\n",
    "#    l1_p_s.append(l1_g.probe(nx.ProbeParameter.SPIKE)[0][i])\n",
    "\n",
    "#for i in l2_ran:\n",
    "#    l2_p_v.append(l1_g.probe(nx.ProbeParameter.COMPARTMENT_VOLTAGE)[0][i])\n",
    "#    l2_p_s.append(l1_g.probe(nx.ProbeParameter.SPIKE)[0][i])\n",
    "\n",
    "\n",
    "\n",
    "\n",
    "\n"
   ]
  },
  {
   "cell_type": "code",
   "execution_count": 4,
   "id": "loaded-movie",
   "metadata": {},
   "outputs": [
    {
     "name": "stdout",
     "output_type": "stream",
     "text": [
      "\u001b[1;30mWARNING\u001b[0m:\u001b[34mDRV\u001b[0m:  \u001b[33melementType would be deprecated in 0.9 in favor of messageSize, which provides more flexibility\u001b[0m\n",
      "\u001b[1;30mWARNING\u001b[0m:\u001b[34mDRV\u001b[0m:  \u001b[33melementType would be deprecated in 0.9 in favor of messageSize, which provides more flexibility\u001b[0m\n",
      "\u001b[1;30mINFO\u001b[0m:\u001b[34mDRV\u001b[0m:  Connecting to 127.0.0.1:35411\n",
      "\u001b[1;30mINFO\u001b[0m:\u001b[34mDRV\u001b[0m:      Host server up..............Done 0.02s\n",
      "\u001b[1;30mINFO\u001b[0m:\u001b[34mDRV\u001b[0m:      Compiling Embedded snips....Done 0.13s\n",
      "\u001b[1;30mINFO\u001b[0m:\u001b[34mDRV\u001b[0m:      Encoding axons/synapses.....Done 0.04s\n"
     ]
    },
    {
     "name": "stderr",
     "output_type": "stream",
     "text": [
      "/home/negin/miniconda2/envs/loihi/lib/python3.5/site-packages/ipykernel_launcher.py:15: NxDeprecationWarning: createProcess will be removed in 0.9 in favor of createSnip\n",
      "  from ipykernel import kernelapp as app\n",
      "/home/negin/miniconda2/envs/loihi/lib/python3.5/site-packages/ipykernel_launcher.py:23: NxDeprecationWarning: startDriver is being deprecated. Use start instead.\n"
     ]
    },
    {
     "name": "stdout",
     "output_type": "stream",
     "text": [
      "\u001b[1;30mINFO\u001b[0m:\u001b[34mHST\u001b[0m:  Using Kapoho Bay serial number 435\n",
      "\u001b[1;30mINFO\u001b[0m:\u001b[34mHST\u001b[0m:  Args chip=0 cpu=0 /home/negin/miniconda2/envs/loihi/lib/python3.5/site-packages/nxsdk/driver/compilers/../../../temp/1626875844.140005/launcher_chip0_lmt0.bin --chips=1 --remote-relay=0 --epoch=0 \n",
      "\u001b[1;30mINFO\u001b[0m:\u001b[34mHST\u001b[0m:  Lakemont_driver...\n",
      "\u001b[1;30mINFO\u001b[0m:\u001b[34mDRV\u001b[0m:      Booting up..................Done 1.22s\n",
      "\u001b[1;30mINFO\u001b[0m:\u001b[34mDRV\u001b[0m:      Encoding probes.............Done 0.03s\n"
     ]
    }
   ],
   "source": [
    "#### SNIP\n",
    "compiler = nx.N2Compiler()\n",
    "board = compiler.compile(net)\n",
    "\n",
    "path = os.getcwd()\n",
    "#print(path)\n",
    "\n",
    "\n",
    "bias_snip = board.createProcess(\n",
    "    name=\"biasMgmt\",\n",
    "    includeDir=path,\n",
    "    cFilePath=path + \"/setBias.c\", \n",
    "    funcName=\"biasMgmt\",\n",
    "    guardName=\"doBiasMgmt\",\n",
    "    phase=\"mgmt\")\n",
    "\n",
    "bias_ch = board.createChannel(b'biasChannel', \"int\", 1)\n",
    "bias_ch.connect(None, bias_snip)\n",
    "t_ch = board.createChannel(b'timeChannel', \"int\", 1)\n",
    "t_ch.connect(bias_snip, None)\n",
    "\n",
    "\n",
    "board.startDriver()"
   ]
  },
  {
   "cell_type": "code",
   "execution_count": 5,
   "id": "handled-prospect",
   "metadata": {
    "scrolled": true
   },
   "outputs": [
    {
     "name": "stdout",
     "output_type": "stream",
     "text": [
      "\u001b[1;30mINFO\u001b[0m:\u001b[34mDRV\u001b[0m:      Transferring probes.........Done 2.19ms\n",
      "\u001b[1;30mINFO\u001b[0m:\u001b[34mDRV\u001b[0m:      Configuring registers.......Done 0.08s\n",
      "\u001b[1;30mINFO\u001b[0m:\u001b[34mDRV\u001b[0m:      Transferring spikes.........Done 0.90ms\n",
      "\u001b[1;30mINFO\u001b[0m:\u001b[34mHST\u001b[0m:  chip=0 cpu=0 Executing management SNIP to change Bias\n",
      "\u001b[1;30mINFO\u001b[0m:\u001b[34mHST\u001b[0m:  chip=0 cpu=0 Set bias=0 at t=100\n",
      "\u001b[1;30mINFO\u001b[0m:\u001b[34mHST\u001b[0m:  chip=0 cpu=0 Executing management SNIP to change Bias\n",
      "\u001b[1;30mINFO\u001b[0m:\u001b[34mDRV\u001b[0m:      Executing...................Done 1.13s\n",
      "\u001b[1;30mINFO\u001b[0m:\u001b[34mHST\u001b[0m:  chip=0 cpu=0 Set bias=1000 at t=200\n",
      "\u001b[1;30mINFO\u001b[0m:\u001b[34mDRV\u001b[0m:      Processing timeseries.......Done 1.00s\n",
      "\u001b[1;30mINFO\u001b[0m:\u001b[34mHST\u001b[0m:  chip=0 cpu=0 halted, status=0x0\n",
      "[100]\n"
     ]
    }
   ],
   "source": [
    "array_data = np.round(np.array(encoded_cube),3)\n",
    "condesed = np.split(array_data[0], 9)[0]\n",
    "#print(condesed)\n",
    "\n",
    "sim_t = 200\n",
    "step = 0.01 \n",
    "\n",
    "intervals_n = 10\n",
    "#bias = [200, 100] * (int(intervals_n/2))\n",
    "bias = [1000,1000]\n",
    "t = []\n",
    "\n",
    "sg.addSpikes(0, list(range(intervals_n, sim_t, intervals_n)))\n",
    "\n",
    "for cycle in range(sim_t):\n",
    "    active_neurons = (condesed < (cycle*step)) & (condesed >= ((cycle-1)*step))\n",
    "    active_neuron_ports = np.nonzero(active_neurons)[0]\n",
    "    if active_neuron_ports.size != 0:\n",
    "        for port in active_neuron_ports:\n",
    "            #print(str(cycle) + \" \" +str(port))\n",
    "            ingen.addSpikes(spikeInputPortNodeIds=port, spikeTimes=[cycle+1])\n",
    "\n",
    "bias_ch.write(1, [0])\n",
    "board.run(sim_t, aSync=True)\n",
    "\n",
    "# Read time of last vTh modification from channel and write next vTh value to channel\n",
    "for b in bias[1:]:\n",
    "    t.append(t_ch.read(1)[0])\n",
    "    bias_ch.write(1, [b])\n",
    "\n",
    "\n",
    "# Finish and disconnect\n",
    "board.finishRun()\n",
    "board.disconnect()\n",
    "\n",
    "print(t)\n",
    "\n"
   ]
  },
  {
   "cell_type": "code",
   "execution_count": 6,
   "id": "insured-international",
   "metadata": {},
   "outputs": [
    {
     "data": {
      "text/plain": [
       "[<matplotlib.lines.Line2D at 0x7f2ef45f2240>]"
      ]
     },
     "execution_count": 6,
     "metadata": {},
     "output_type": "execute_result"
    },
    {
     "data": {
      "image/png": "[encoded data removed]",
      "text/plain": [
       "<Figure size 1296x720 with 1 Axes>"
      ]
     },
     "metadata": {
      "needs_background": "light"
     },
     "output_type": "display_data"
    }
   ],
   "source": [
    "plt.figure(1, figsize=(18,10))\n",
    "\n",
    "#plt.plot(red_spike_times[1],100 * np.ones(len(red_spike_times[1])), 'bo')\n",
    "\n",
    "for i in range(len(l1_p_v)):\n",
    "    #print(red_spike_times[i])\n",
    "    #if red_spike_times[i][0] <= 100:\n",
    "        #vprobe[i].plot()\n",
    "        #plt.plot(red_spike_times[i][0],100, 'bo')\n",
    "    l1_p_v[i].plot()\n",
    "    \n",
    "    #l2_p_v[i].plot()\n",
    "    #plt.plot(red_spike_times[i],100 * np.ones(len(red_spike_times[i])), 'bo')\n",
    "vProbe.plot()"
   ]
  },
  {
   "cell_type": "code",
   "execution_count": 8,
   "id": "affected-claim",
   "metadata": {},
   "outputs": [
    {
     "ename": "NameError",
     "evalue": "name 'vThVals' is not defined",
     "output_type": "error",
     "traceback": [
      "\u001b[0;31m---------------------------------------------------------------------------\u001b[0m",
      "\u001b[0;31mNameError\u001b[0m                                 Traceback (most recent call last)",
      "\u001b[0;32m<ipython-input-8-c177143cae8d>\u001b[0m in \u001b[0;36m<module>\u001b[0;34m()\u001b[0m\n\u001b[1;32m      2\u001b[0m \u001b[0mt\u001b[0m\u001b[0;34m.\u001b[0m\u001b[0minsert\u001b[0m\u001b[0;34m(\u001b[0m\u001b[0;36m0\u001b[0m\u001b[0;34m,\u001b[0m \u001b[0;36m0\u001b[0m\u001b[0;34m)\u001b[0m\u001b[0;34m\u001b[0m\u001b[0m\n\u001b[1;32m      3\u001b[0m \u001b[0mt\u001b[0m\u001b[0;34m.\u001b[0m\u001b[0mappend\u001b[0m\u001b[0;34m(\u001b[0m\u001b[0;36m1000\u001b[0m\u001b[0;34m)\u001b[0m\u001b[0;34m\u001b[0m\u001b[0m\n\u001b[0;32m----> 4\u001b[0;31m \u001b[0mvThVals\u001b[0m\u001b[0;34m.\u001b[0m\u001b[0minsert\u001b[0m\u001b[0;34m(\u001b[0m\u001b[0;36m0\u001b[0m\u001b[0;34m,\u001b[0m \u001b[0;36m150\u001b[0m\u001b[0;34m)\u001b[0m\u001b[0;34m\u001b[0m\u001b[0m\n\u001b[0m\u001b[1;32m      5\u001b[0m \u001b[0mvThVals\u001b[0m\u001b[0;34m.\u001b[0m\u001b[0minsert\u001b[0m\u001b[0;34m(\u001b[0m\u001b[0;36m0\u001b[0m\u001b[0;34m,\u001b[0m \u001b[0;36m150\u001b[0m\u001b[0;34m)\u001b[0m\u001b[0;34m\u001b[0m\u001b[0m\n\u001b[1;32m      6\u001b[0m \u001b[0mvThVals\u001b[0m \u001b[0;34m=\u001b[0m \u001b[0mvThVals\u001b[0m\u001b[0;34m[\u001b[0m\u001b[0;34m:\u001b[0m\u001b[0;34m-\u001b[0m\u001b[0;36m1\u001b[0m\u001b[0;34m]\u001b[0m\u001b[0;34m\u001b[0m\u001b[0m\n",
      "\u001b[0;31mNameError\u001b[0m: name 'vThVals' is not defined"
     ]
    }
   ],
   "source": [
    "# Add initial and final values to 'times' and 'vThVals' that have not been sent for plotting\n",
    "t.insert(0, 0)\n",
    "t.append(1000)\n",
    "vThVals.insert(0, 150)\n",
    "vThVals.insert(0, 150)\n",
    "vThVals = vThVals[:-1]\n",
    "\n",
    "# Helper method to draw vertical interval separators whenever we change vTh\n",
    "def drawIntervalSeperators(intervalBoundaries):\n",
    "    for t in intervalBoundaries:\n",
    "        plt.axvline(x=t, color='k', linestyle='--')\n",
    "\n",
    "# Plot compartment current, voltage and spikes\n",
    "plt.figure(1, figsize=(18,10))\n",
    "\n",
    "ax1 = plt.subplot(3, 1, 1)\n",
    "uProbe.plot()\n",
    "plt.title('Compartment Current')\n",
    "drawIntervalSeperators(times)\n",
    "\n",
    "ax2 = plt.subplot(3, 1, 2)\n",
    "vProbe.plot()\n",
    "plt.title('Compartment Voltage')\n",
    "plt.step(times, np.array(vThVals)*2**6, color='r', linestyle='--')\n",
    "\n",
    "ax3 = plt.subplot(3, 1, 3)\n",
    "sProbe.plot()\n",
    "plt.title('Compartment Spikes')\n",
    "drawIntervalSeperators(times)\n",
    "ax3.set_xlim(ax1.get_xlim())\n",
    "\n",
    "plt.show()\n"
   ]
  },
  {
   "cell_type": "code",
   "execution_count": null,
   "id": "rolled-circus",
   "metadata": {},
   "outputs": [],
   "source": []
  }
 ],
 "metadata": {
  "kernelspec": {
   "display_name": "Python 3",
   "language": "python",
   "name": "python3"
  },
  "language_info": {
   "codemirror_mode": {
    "name": "ipython",
    "version": 3
   },
   "file_extension": ".py",
   "mimetype": "text/x-python",
   "name": "python",
   "nbconvert_exporter": "python",
   "pygments_lexer": "ipython3",
   "version": "3.5.2"
  }
 },
 "nbformat": 4,
 "nbformat_minor": 5
}
