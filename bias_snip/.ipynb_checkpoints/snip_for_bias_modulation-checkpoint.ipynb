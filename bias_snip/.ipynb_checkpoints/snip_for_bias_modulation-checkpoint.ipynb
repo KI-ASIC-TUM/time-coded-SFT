{
 "cells": [
  {
   "cell_type": "code",
   "execution_count": 1,
   "metadata": {},
   "outputs": [],
   "source": [
    "# INTEL CORPORATION CONFIDENTIAL AND PROPRIETARY\n",
    "# \n",
    "# Copyright © 2020 Intel Corporation.\n",
    "# \n",
    "# This software and the related documents are Intel copyrighted\n",
    "# materials, and your use of them is governed by the express \n",
    "# license under which they were provided to you (License). Unless\n",
    "# the License provides otherwise, you may not use, modify, copy, \n",
    "# publish, distribute, disclose or transmit  this software or the\n",
    "# related documents without Intel's prior written permission.\n",
    "# \n",
    "# This software and the related documents are provided as is, with\n",
    "# no express or implied warranties, other than those that are \n",
    "# expressly stated in the License."
   ]
  },
  {
   "cell_type": "code",
   "execution_count": 2,
   "metadata": {},
   "outputs": [],
   "source": [
    "import nxsdk.api.n2a as nx\n",
    "import numpy as np\n",
    "import matplotlib.pyplot as plt\n",
    "import os"
   ]
  },
  {
   "cell_type": "markdown",
   "metadata": {},
   "source": [
    "# SNIPs\n",
    "In this tutorial we demonstrate the configuration of SNIPs and communication among SNIPs and between SNIPs and the SNN. The following figure illustrates the how SNIPs interact.\n",
    "\n",
    "<img src=\"../figures/jupyter_snips.png\">\n",
    "\n",
    "As an example, we stimulate a single compartment with a spike generator but vary the membrane threshold over time via a SNIP. We send the new membrane threshold value from the super host to a SNIP executing in the management phase on the embedded Lakemont processor via a channel and return the time of modification to the super host via another channel."
   ]
  },
  {
   "cell_type": "markdown",
   "metadata": {},
   "source": [
    "## Setup compartment and spike generator"
   ]
  },
  {
   "cell_type": "code",
   "execution_count": 3,
   "metadata": {},
   "outputs": [
    {
     "data": {
      "text/plain": [
       "<nxsdk.net.groups.ConnectionGroup at 0x7f68cf4859e8>"
      ]
     },
     "execution_count": 3,
     "metadata": {},
     "output_type": "execute_result"
    }
   ],
   "source": [
    "net = nx.NxNet()\n",
    "\n",
    "# Create a single compartment\n",
    "cxProto = nx.CompartmentPrototype(vThMant=150,\n",
    "                                  biasMant = 0,\n",
    "                                  biasExp = 6,\n",
    "                                  compartmentVoltageDecay=0,\n",
    "                                  compartmentCurrentDecay=4095,\n",
    "                                  functionalState=2,\n",
    "                                  logicalCoreId=0)\n",
    "cx = net.createCompartmentGroup(size=1, prototype=cxProto)\n",
    "\n",
    "# Create spike generator and schedule spikes every 'dt' time steps to be sent to the compartment\n",
    "sg = net.createSpikeGenProcess(numPorts=1)\n",
    "dt = 10\n",
    "numSteps = 1000\n",
    "sg.addSpikes(0, list(range(dt, numSteps, dt)))\n",
    "\n",
    "# Connect spike generator to compartment\n",
    "connProto = nx.ConnectionPrototype(weight=10)\n",
    "sg.connect(cx, prototype=connProto)"
   ]
  },
  {
   "cell_type": "markdown",
   "metadata": {},
   "source": [
    "## Configure current, voltage and spike probe"
   ]
  },
  {
   "cell_type": "code",
   "execution_count": 4,
   "metadata": {},
   "outputs": [],
   "source": [
    "uProbe = cx.probe(nx.ProbeParameter.COMPARTMENT_CURRENT)[0][0]\n",
    "vProbe = cx.probe(nx.ProbeParameter.COMPARTMENT_VOLTAGE)[0][0]\n",
    "sProbe = cx.probe(nx.ProbeParameter.SPIKE)[0][0]"
   ]
  },
  {
   "cell_type": "markdown",
   "metadata": {},
   "source": [
    "## Compile network and retrieve board"
   ]
  },
  {
   "cell_type": "code",
   "execution_count": 5,
   "metadata": {},
   "outputs": [],
   "source": [
    "compiler = nx.N2Compiler()\n",
    "board = compiler.compile(net)"
   ]
  },
  {
   "cell_type": "markdown",
   "metadata": {},
   "source": [
    "## Configure SNIP and channels \n",
    "In this tutorial, the C code for SNIP can be written at NxCore level, or it can be upleveled using NxNet C API. In the code below, setVTh_core.c is used for SNIP at NxCore level, and setVTh_net.c is used for SNIP at NxNet level using NxNet C API. For more details about NxNet C API, please refer to the documentation."
   ]
  },
  {
   "cell_type": "code",
   "execution_count": 6,
   "metadata": {},
   "outputs": [
    {
     "name": "stdout",
     "output_type": "stream",
     "text": [
      "\u001b[1;30mWARNING\u001b[0m:\u001b[34mDRV\u001b[0m:  \u001b[33melementType would be deprecated in 0.9 in favor of messageSize, which provides more flexibility\u001b[0m\n",
      "\u001b[1;30mWARNING\u001b[0m:\u001b[34mDRV\u001b[0m:  \u001b[33melementType would be deprecated in 0.9 in favor of messageSize, which provides more flexibility\u001b[0m\n",
      "\u001b[1;30mINFO\u001b[0m:\u001b[34mDRV\u001b[0m:  Connecting to 127.0.0.1:38025\n",
      "\u001b[1;30mINFO\u001b[0m:\u001b[34mDRV\u001b[0m:      Host server up..............Done 0.02s\n",
      "\u001b[1;30mINFO\u001b[0m:\u001b[34mDRV\u001b[0m:      Encoding axons/synapses.....Done 1.27ms\n",
      "\u001b[1;30mINFO\u001b[0m:\u001b[34mDRV\u001b[0m:      Compiling Embedded snips....Done 0.13s\n",
      "    Booting up... \r"
     ]
    },
    {
     "name": "stderr",
     "output_type": "stream",
     "text": [
      "/home/negin/miniconda2/envs/loihi/lib/python3.5/site-packages/ipykernel_launcher.py:12: NxDeprecationWarning: createProcess will be removed in 0.9 in favor of createSnip\n",
      "  if sys.path[0] == '':\n",
      "/home/negin/miniconda2/envs/loihi/lib/python3.5/site-packages/ipykernel_launcher.py:27: NxDeprecationWarning: startDriver is being deprecated. Use start instead.\n"
     ]
    },
    {
     "name": "stdout",
     "output_type": "stream",
     "text": [
      "\u001b[1;30mINFO\u001b[0m:\u001b[34mHST\u001b[0m:  Using Kapoho Bay serial number 435\n",
      "\u001b[1;30mINFO\u001b[0m:\u001b[34mHST\u001b[0m:  Args chip=0 cpu=0 /home/negin/miniconda2/envs/loihi/lib/python3.5/site-packages/nxsdk/driver/compilers/../../../temp/1626871603.1579797/launcher_chip0_lmt0.bin --chips=1 --remote-relay=0 --epoch=0 \n",
      "\u001b[1;30mINFO\u001b[0m:\u001b[34mHST\u001b[0m:  Lakemont_driver...\n",
      "\u001b[1;30mINFO\u001b[0m:\u001b[34mDRV\u001b[0m:      Booting up..................Done 1.23s\n",
      "\u001b[1;30mINFO\u001b[0m:\u001b[34mDRV\u001b[0m:      Encoding probes.............Done 3.92ms\n"
     ]
    }
   ],
   "source": [
    "# Define directory where SNIP C-code is located\n",
    "includeDir = os.getcwd()\n",
    "\n",
    "# Create SNIP, define which code to execute and in which phase of the NxRuntime execution cycle\n",
    "mgmtSnip = board.createProcess(\n",
    "    name=\"runMgmt\",\n",
    "    includeDir=includeDir,\n",
    "#    cFilePath=includeDir + \"/setVTh_core.c\", # NxCore level C file\n",
    "    cFilePath=includeDir + \"/setVTh_net.c\",  # NxNet level C file\n",
    "    funcName=\"runMgmt\", \n",
    "    guardName=\"doRunMgmt\", \n",
    "    phase=\"mgmt\")\n",
    "\n",
    "# Create a channel from super host to Lakemont for sending new vTh values\n",
    "# The name of the channel is vThChannel, it supports elements of type int, and has a maximum capacity of 1 element\n",
    "vThChannel = board.createChannel(b'vThChannel', \"int\", 1)\n",
    "# Sending process is the super host (denoted by None) with mgmtSnip as the receiving process\n",
    "vThChannel.connect(None, mgmtSnip)\n",
    "\n",
    "# Create a channel from Lakemont to super host for sending the time of modification\n",
    "# The name of the channel is timeChannel, it supports elements of type int, and has a maximum capacity of 1 element\n",
    "timeChannel = board.createChannel(b'timeChannel', \"int\", 1)\n",
    "# Sending process is the mgmtSnip and the receiving process is the super host (denoted by None)\n",
    "timeChannel.connect(mgmtSnip, None)\n",
    "\n",
    "# Start driver\n",
    "board.startDriver()"
   ]
  },
  {
   "cell_type": "markdown",
   "metadata": {},
   "source": [
    "## Define sequence of new membrane potential values"
   ]
  },
  {
   "cell_type": "code",
   "execution_count": 7,
   "metadata": {},
   "outputs": [],
   "source": [
    "times = []\n",
    "numIntervals = 10\n",
    "vThVals = [200, 150] * (int(numIntervals/2))"
   ]
  },
  {
   "cell_type": "markdown",
   "metadata": {},
   "source": [
    "## Execute network, send threshold values and receive modification times"
   ]
  },
  {
   "cell_type": "code",
   "execution_count": 8,
   "metadata": {},
   "outputs": [
    {
     "name": "stdout",
     "output_type": "stream",
     "text": [
      "\u001b[1;30mINFO\u001b[0m:\u001b[34mDRV\u001b[0m:      Transferring probes.........Done 2.63ms\n",
      "\u001b[1;30mINFO\u001b[0m:\u001b[34mDRV\u001b[0m:      Configuring registers.......Done 9.61ms\n",
      "\u001b[1;30mINFO\u001b[0m:\u001b[34mDRV\u001b[0m:      Transferring spikes.........Done 2.04ms\n",
      "\u001b[1;30mINFO\u001b[0m:\u001b[34mHST\u001b[0m:  chip=0 cpu=0 Executing management snip to change vTh\n",
      "\u001b[1;30mINFO\u001b[0m:\u001b[34mHST\u001b[0m:  chip=0 cpu=0 Set vTh=200 at t=100\n",
      "\u001b[1;30mINFO\u001b[0m:\u001b[34mHST\u001b[0m:  chip=0 cpu=0 Executing management snip to change vTh\n",
      "\u001b[1;30mINFO\u001b[0m:\u001b[34mHST\u001b[0m:  chip=0 cpu=0 Set vTh=150 at t=200\n",
      "\u001b[1;30mINFO\u001b[0m:\u001b[34mHST\u001b[0m:  chip=0 cpu=0 Executing management snip to change vTh\n",
      "\u001b[1;30mINFO\u001b[0m:\u001b[34mHST\u001b[0m:  chip=0 cpu=0 Set vTh=200 at t=300\n",
      "\u001b[1;30mINFO\u001b[0m:\u001b[34mHST\u001b[0m:  chip=0 cpu=0 Executing management snip to change vTh\n",
      "\u001b[1;30mINFO\u001b[0m:\u001b[34mHST\u001b[0m:  chip=0 cpu=0 Set vTh=150 at t=400\n",
      "\u001b[1;30mINFO\u001b[0m:\u001b[34mHST\u001b[0m:  chip=0 cpu=0 Executing management snip to change vTh\n",
      "\u001b[1;30mINFO\u001b[0m:\u001b[34mHST\u001b[0m:  chip=0 cpu=0 Set vTh=200 at t=500\n",
      "\u001b[1;30mINFO\u001b[0m:\u001b[34mHST\u001b[0m:  chip=0 cpu=0 Executing management snip to change vTh\n",
      "\u001b[1;30mINFO\u001b[0m:\u001b[34mHST\u001b[0m:  chip=0 cpu=0 Set vTh=150 at t=600\n",
      "\u001b[1;30mINFO\u001b[0m:\u001b[34mHST\u001b[0m:  chip=0 cpu=0 Executing management snip to change vTh\n",
      "\u001b[1;30mINFO\u001b[0m:\u001b[34mHST\u001b[0m:  chip=0 cpu=0 Set vTh=200 at t=700\n",
      "\u001b[1;30mINFO\u001b[0m:\u001b[34mHST\u001b[0m:  chip=0 cpu=0 Executing management snip to change vTh\n",
      "\u001b[1;30mINFO\u001b[0m:\u001b[34mHST\u001b[0m:  chip=0 cpu=0 Set vTh=150 at t=800\n",
      "\u001b[1;30mINFO\u001b[0m:\u001b[34mHST\u001b[0m:  chip=0 cpu=0 Executing management snip to change vTh\n",
      "\u001b[1;30mINFO\u001b[0m:\u001b[34mHST\u001b[0m:  chip=0 cpu=0 Set vTh=200 at t=900\n",
      "\u001b[1;30mINFO\u001b[0m:\u001b[34mHST\u001b[0m:  chip=0 cpu=0 Executing management snip to change vTh\n",
      "\u001b[1;30mINFO\u001b[0m:\u001b[34mDRV\u001b[0m:      Executing...................Done 0.49s\n",
      "\u001b[1;30mINFO\u001b[0m:\u001b[34mHST\u001b[0m:  chip=0 cpu=0 Set vTh=150 at t=1000\n",
      "\u001b[1;30mINFO\u001b[0m:\u001b[34mDRV\u001b[0m:      Processing timeseries.......Done 0.03s\n",
      "\u001b[1;30mINFO\u001b[0m:\u001b[34mHST\u001b[0m:  chip=0 cpu=0 halted, status=0x0\n"
     ]
    }
   ],
   "source": [
    "# Add initial element in channel otherwise snip might miss it before Python on super host gets to send next element\n",
    "vThChannel.write(1, [vThVals[0]])\n",
    "\n",
    "# Launch execution\n",
    "board.run(numSteps, aSync=True)\n",
    "\n",
    "# Read time of last vTh modification from channel and write next vTh value to channel\n",
    "for vth in vThVals[1:]:\n",
    "    times.append(timeChannel.read(1)[0])\n",
    "    vThChannel.write(1, [vth])\n",
    "\n",
    "# Finish and disconnect\n",
    "board.finishRun()\n",
    "board.disconnect()"
   ]
  },
  {
   "cell_type": "markdown",
   "metadata": {},
   "source": [
    "## Visualize results"
   ]
  },
  {
   "cell_type": "code",
   "execution_count": 9,
   "metadata": {},
   "outputs": [
    {
     "data": {
      "image/png": "[encoded data removed]",
      "text/plain": [
       "<Figure size 1296x720 with 3 Axes>"
      ]
     },
     "metadata": {
      "needs_background": "light"
     },
     "output_type": "display_data"
    }
   ],
   "source": [
    "# Add initial and final values to 'times' and 'vThVals' that have not been sent for plotting\n",
    "times.insert(0, 0)\n",
    "times.append(1000)\n",
    "vThVals.insert(0, 150)\n",
    "vThVals.insert(0, 150)\n",
    "vThVals = vThVals[:-1]\n",
    "\n",
    "# Helper method to draw vertical interval separators whenever we change vTh\n",
    "def drawIntervalSeperators(intervalBoundaries):\n",
    "    for t in intervalBoundaries:\n",
    "        plt.axvline(x=t, color='k', linestyle='--')\n",
    "\n",
    "# Plot compartment current, voltage and spikes\n",
    "plt.figure(1, figsize=(18,10))\n",
    "\n",
    "ax1 = plt.subplot(3, 1, 1)\n",
    "uProbe.plot()\n",
    "plt.title('Compartment Current')\n",
    "drawIntervalSeperators(times)\n",
    "\n",
    "ax2 = plt.subplot(3, 1, 2)\n",
    "vProbe.plot()\n",
    "plt.title('Compartment Voltage')\n",
    "plt.step(times, np.array(vThVals)*2**6, color='r', linestyle='--')\n",
    "\n",
    "ax3 = plt.subplot(3, 1, 3)\n",
    "sProbe.plot()\n",
    "plt.title('Compartment Spikes')\n",
    "drawIntervalSeperators(times)\n",
    "ax3.set_xlim(ax1.get_xlim())\n",
    "\n",
    "plt.show()"
   ]
  },
  {
   "cell_type": "code",
   "execution_count": null,
   "metadata": {},
   "outputs": [],
   "source": []
  }
 ],
 "metadata": {
  "kernelspec": {
   "display_name": "Python 3",
   "language": "python",
   "name": "python3"
  },
  "language_info": {
   "codemirror_mode": {
    "name": "ipython",
    "version": 3
   },
   "file_extension": ".py",
   "mimetype": "text/x-python",
   "name": "python",
   "nbconvert_exporter": "python",
   "pygments_lexer": "ipython3",
   "version": "3.5.2"
  }
 },
 "nbformat": 4,
 "nbformat_minor": 2
}
