{
 "cells": [
  {
   "cell_type": "code",
   "execution_count": 1,
   "id": "checked-lighter",
   "metadata": {},
   "outputs": [],
   "source": [
    "import numpy as np\n",
    "import os\n",
    "import time\n",
    "import matplotlib.pyplot as plt\n",
    "\n",
    "import nxsdk.api.n2a as nx\n",
    "\n",
    "from nxsdk.utils.plotutils import plotRaster\n",
    "from msj_brain.asynch_eval import Callable"
   ]
  },
  {
   "cell_type": "code",
   "execution_count": 2,
   "id": "ongoing-worker",
   "metadata": {},
   "outputs": [],
   "source": [
    "net = nx.NxNet()\n",
    "# spike generators\n",
    "gen = net.createSpikeGenProcess(numPorts=1)\n",
    "\n",
    "nonlif_p = nx.CompartmentPrototype(vThMant=150, \n",
    "                                   compartmentCurrentDecay=4095,\n",
    "                                   compartmentVoltageDecay=0)\n",
    "nonlif = net.createCompartmentGroup(size=1, prototype=nonlif_p)\n",
    "\n",
    "# Connect spike generator to compartment\n",
    "gen_nonlif = nx.ConnectionPrototype(weight=10)\n",
    "gen.connect(nonlif, prototype=gen_nonlif)\n",
    "\n",
    "numSteps = 1000\n",
    "gen.addSpikes(0, list())\n",
    "\n",
    "# probes\n",
    "u = nonlif.probe(nx.ProbeParameter.COMPARTMENT_CURRENT)[0][0]\n",
    "v = nonlif.probe(nx.ProbeParameter.COMPARTMENT_VOLTAGE)[0][0]\n",
    "s = nonlif.probe(nx.ProbeParameter.SPIKE)[0][0]\n",
    "\n",
    "compiler = nx.N2Compiler()\n",
    "board = compiler.compile(net)"
   ]
  },
  {
   "cell_type": "code",
   "execution_count": 3,
   "id": "vietnamese-australia",
   "metadata": {},
   "outputs": [
    {
     "name": "stdout",
     "output_type": "stream",
     "text": [
      "\u001b[1;30mWARNING\u001b[0m:\u001b[34mDRV\u001b[0m:  \u001b[33melementType would be deprecated in 0.9 in favor of messageSize, which provides more flexibility\u001b[0m\n",
      "\u001b[1;30mWARNING\u001b[0m:\u001b[34mDRV\u001b[0m:  \u001b[33melementType would be deprecated in 0.9 in favor of messageSize, which provides more flexibility\u001b[0m\n",
      "\u001b[1;30mINFO\u001b[0m:\u001b[34mDRV\u001b[0m:  Connecting to 127.0.0.1:45049\n",
      "\u001b[1;30mINFO\u001b[0m:\u001b[34mDRV\u001b[0m:      Host server up..............Done 0.02s\n",
      "\u001b[1;30mINFO\u001b[0m:\u001b[34mDRV\u001b[0m:      Encoding axons/synapses.....Done 0.76ms\n",
      "\u001b[1;30mINFO\u001b[0m:\u001b[34mDRV\u001b[0m:      Compiling Embedded snips....Done 0.11s\n",
      "    Booting up... \r"
     ]
    },
    {
     "name": "stderr",
     "output_type": "stream",
     "text": [
      "/home/negin/miniconda2/envs/loihi/lib/python3.5/site-packages/ipykernel_launcher.py:10: NxDeprecationWarning: createProcess will be removed in 0.9 in favor of createSnip\n",
      "  # Remove the CWD from sys.path while we load stuff.\n",
      "/home/negin/miniconda2/envs/loihi/lib/python3.5/site-packages/ipykernel_launcher.py:25: NxDeprecationWarning: startDriver is being deprecated. Use start instead.\n"
     ]
    },
    {
     "name": "stdout",
     "output_type": "stream",
     "text": [
      "\u001b[1;30mINFO\u001b[0m:\u001b[34mHST\u001b[0m:  Using Kapoho Bay serial number 435\n",
      "\u001b[1;30mINFO\u001b[0m:\u001b[34mHST\u001b[0m:  Args chip=0 cpu=0 /home/negin/miniconda2/envs/loihi/lib/python3.5/site-packages/nxsdk/driver/compilers/../../../temp/1619629473.136908/launcher_chip0_lmt0.bin --chips=1 --remote-relay=0 --epoch=0 \n",
      "\u001b[1;30mINFO\u001b[0m:\u001b[34mHST\u001b[0m:  Lakemont_driver...\n",
      "\u001b[1;30mINFO\u001b[0m:\u001b[34mDRV\u001b[0m:      Booting up..................Done 1.26s\n",
      "\u001b[1;30mINFO\u001b[0m:\u001b[34mDRV\u001b[0m:      Encoding probes.............Done 1.64ms\n"
     ]
    }
   ],
   "source": [
    "# directory where SNIP C-code\n",
    "includeDir = os.getcwd()\n",
    "# Create SNIP\n",
    "mgmtSnip = board.createProcess(\n",
    "    name=\"runMgmt\",\n",
    "    includeDir=includeDir,\n",
    "    cFilePath=includeDir + \"/setVTh_core.c\", # NxCore level C file\n",
    "    funcName=\"runMgmt\",\n",
    "    guardName=\"doRunMgmt\",\n",
    "    phase=\"mgmt\")\n",
    "\n",
    "# channel: super host to Lakemont - new vTh values\n",
    "# channel name: vThChannel, elements type: int, max capacity: 1 element\n",
    "vThChannel = board.createChannel(b'vThChannel', \"int\", 1)\n",
    "# Sending process is the super host (denoted by None) with mgmtSnip as the receiving process\n",
    "vThChannel.connect(None, mgmtSnip)\n",
    "\n",
    "# channel: Lakemont to super host - time of modification\n",
    "# channel name: timeChannel, element type: int, max capacity: 1 element\n",
    "timeChannel = board.createChannel(b'timeChannel', \"int\", 1)\n",
    "# Sending process is the mgmtSnip and the receiving process is the super host (denoted by None)\n",
    "timeChannel.connect(mgmtSnip, None)\n",
    "\n",
    "# Start driver\n",
    "board.startDriver()"
   ]
  },
  {
   "cell_type": "code",
   "execution_count": 4,
   "id": "guided-beverage",
   "metadata": {},
   "outputs": [
    {
     "name": "stdout",
     "output_type": "stream",
     "text": [
      "\u001b[1;30mINFO\u001b[0m:\u001b[34mDRV\u001b[0m:      Transferring probes.........Done 4.22ms\n",
      "\u001b[1;30mINFO\u001b[0m:\u001b[34mDRV\u001b[0m:      Configuring registers.......Done 6.98ms\n",
      "\u001b[1;30mINFO\u001b[0m:\u001b[34mDRV\u001b[0m:      Transferring spikes.........Done 1.71ms\n",
      "\u001b[1;30mINFO\u001b[0m:\u001b[34mHST\u001b[0m:  chip=0 cpu=0 Executing management snip to change vTh\n",
      "\u001b[1;30mINFO\u001b[0m:\u001b[34mHST\u001b[0m:  chip=0 cpu=0 Set vTh=100 at t=500\n",
      "\u001b[1;30mINFO\u001b[0m:\u001b[34mHST\u001b[0m:  chip=0 cpu=0 Executing management snip to change vTh\n",
      "\u001b[1;30mINFO\u001b[0m:\u001b[34mDRV\u001b[0m:      Executing...................Done 7.52ms\n",
      "\u001b[1;30mINFO\u001b[0m:\u001b[34mHST\u001b[0m:  chip=0 cpu=0 Set vTh=150 at t=1000\n",
      "\u001b[1;30mINFO\u001b[0m:\u001b[34mDRV\u001b[0m:      Processing timeseries.......Done 8.16ms\n",
      "\u001b[1;30mINFO\u001b[0m:\u001b[34mHST\u001b[0m:  chip=0 cpu=0 halted, status=0x0\n"
     ]
    }
   ],
   "source": [
    "times = []\n",
    "vThVals = [100, 150, 200] \n",
    "\n",
    "# Add initial element in channel otherwise snip might miss it before Python on super host gets to send next element\n",
    "vThChannel.write(1, [vThVals[0]])\n",
    "\n",
    "# Launch execution\n",
    "board.run(numSteps, aSync=True)\n",
    "\n",
    "# Read time of last vTh modification from channel and write next vTh value to channel\n",
    "for vth in vThVals[1:]:\n",
    "    times.append(timeChannel.read(1)[0])\n",
    "    vThChannel.write(1, [vth])\n",
    "\n",
    "# Finish and disconnect\n",
    "board.finishRun()\n",
    "board.disconnect()"
   ]
  },
  {
   "cell_type": "code",
   "execution_count": 5,
   "id": "adjacent-awareness",
   "metadata": {},
   "outputs": [
    {
     "data": {
      "image/png": "[encoded data removed]",
      "text/plain": [
       "<Figure size 1296x720 with 3 Axes>"
      ]
     },
     "metadata": {
      "needs_background": "light"
     },
     "output_type": "display_data"
    }
   ],
   "source": [
    "# Add initial and final values to 'times' and 'vThVals' that have not been sent for plotting\n",
    "times.insert(0, 0)\n",
    "times.append(1000)\n",
    "vThVals.insert(0, 150)\n",
    "vThVals.insert(0, 150)\n",
    "vThVals = vThVals[:-1]\n",
    "\n",
    "# Helper method to draw vertical interval separators whenever we change vTh\n",
    "def drawIntervalSeperators(intervalBoundaries):\n",
    "    for t in intervalBoundaries:\n",
    "        plt.axvline(x=t, color='k', linestyle='--')\n",
    "\n",
    "# Plot compartment current, voltage and spikes\n",
    "plt.figure(1, figsize=(18,10))\n",
    "\n",
    "ax1 = plt.subplot(3, 1, 1)\n",
    "u.plot()\n",
    "plt.title('Compartment Current')\n",
    "drawIntervalSeperators(times)\n",
    "\n",
    "ax2 = plt.subplot(3, 1, 2)\n",
    "v.plot()\n",
    "plt.title('Compartment Voltage')\n",
    "plt.step(times, np.array(vThVals)*2**6, color='r', linestyle='--')\n",
    "\n",
    "ax3 = plt.subplot(3, 1, 3)\n",
    "s.plot()\n",
    "plt.title('Compartment Spikes')\n",
    "drawIntervalSeperators(times)\n",
    "ax3.set_xlim(ax1.get_xlim())\n",
    "\n",
    "plt.show()"
   ]
  },
  {
   "cell_type": "code",
   "execution_count": null,
   "id": "informal-windows",
   "metadata": {},
   "outputs": [],
   "source": []
  }
 ],
 "metadata": {
  "kernelspec": {
   "display_name": "Python 3",
   "language": "python",
   "name": "python3"
  },
  "language_info": {
   "codemirror_mode": {
    "name": "ipython",
    "version": 3
   },
   "file_extension": ".py",
   "mimetype": "text/x-python",
   "name": "python",
   "nbconvert_exporter": "python",
   "pygments_lexer": "ipython3",
   "version": "3.5.2"
  }
 },
 "nbformat": 4,
 "nbformat_minor": 5
}
