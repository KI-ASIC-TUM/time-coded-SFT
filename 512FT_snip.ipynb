{
 "cells": [
  {
   "cell_type": "code",
   "execution_count": 1,
   "id": "brilliant-bulletin",
   "metadata": {},
   "outputs": [],
   "source": [
    "import numpy as np\n",
    "import os\n",
    "import time\n",
    "import matplotlib.pyplot as plt\n",
    "import random\n",
    "\n",
    "import nxsdk.api.n2a as nx\n",
    "\n",
    "from nxsdk.utils.plotutils import plotRaster\n",
    "from msj_brain.asynch_eval import Callable"
   ]
  },
  {
   "cell_type": "code",
   "execution_count": 2,
   "id": "instant-marker",
   "metadata": {},
   "outputs": [
    {
     "name": "stdout",
     "output_type": "stream",
     "text": [
      "(512, 1024)\n"
     ]
    }
   ],
   "source": [
    "n_inputs = 512\n",
    "\n",
    "net = nx.NxNet()\n",
    "# fourier weights\n",
    "# non leaky neurons... \n",
    "# change bias after charging phase\n",
    "inputs = net.createSpikeGenProcess(numPorts=n_inputs)\n",
    "\n",
    "nonlif = []\n",
    "nonlif_g = net.createCompartmentGroup()\n",
    "for i in range(n_inputs*2):\n",
    "    nonlif_p = nx.CompartmentPrototype(vThMant=2000,\n",
    "                                       biasMant = 0,\n",
    "                                       biasExp = 6,\n",
    "                                       compartmentCurrentDecay=4095,\n",
    "                                       compartmentVoltageDecay=0,\n",
    "                                       functionalState=2,\n",
    "                                       logicalCoreId=int(i/32))\n",
    "    nonlif.append(net.createCompartment(prototype=nonlif_p))\n",
    "nonlif_g.addCompartments(nonlif)\n",
    "\n",
    "# Connect spike generator to compartment\n",
    "inputs_nonlif = nx.ConnectionPrototype()\n",
    "\n",
    "def fourier_weight_mask():\n",
    "    k, n = np.mgrid[0:n_inputs, 0:n_inputs]\n",
    "    theta = 2 * np.pi * k * n / n_inputs\n",
    "    return np.hstack([np.cos(theta), -np.sin(theta)])\n",
    "\n",
    "weight_mask = fourier_weight_mask()\n",
    "\n",
    "print(weight_mask.shape)\n",
    "inputs.connect(nonlif_g, prototype=inputs_nonlif, weight=weight_mask.T)\n",
    "\n",
    "\n",
    "numSteps = 1500\n",
    "\n",
    "spiking_choices = np.arange(0,(n_inputs*2)-1,2)\n",
    "spiking_times = []\n",
    "for i in range(n_inputs):\n",
    "    spiking_times.append(random.randint(0,n_inputs*2))\n",
    "    \n",
    "v_probes = []\n",
    "\n",
    "for i in range(n_inputs):\n",
    "    inputs.addSpikes(i, [spiking_times[i]])\n",
    "    v_probes.append(nonlif_g.probe(nx.ProbeParameter.COMPARTMENT_VOLTAGE)[0][i])\n",
    "\n",
    "\n",
    "compiler = nx.N2Compiler()\n",
    "board = compiler.compile(net)"
   ]
  },
  {
   "cell_type": "code",
   "execution_count": 3,
   "id": "miniature-omega",
   "metadata": {},
   "outputs": [
    {
     "name": "stdout",
     "output_type": "stream",
     "text": [
      "\u001b[1;30mWARNING\u001b[0m:\u001b[34mDRV\u001b[0m:  \u001b[33melementType would be deprecated in 0.9 in favor of messageSize, which provides more flexibility\u001b[0m\n",
      "\u001b[1;30mWARNING\u001b[0m:\u001b[34mDRV\u001b[0m:  \u001b[33melementType would be deprecated in 0.9 in favor of messageSize, which provides more flexibility\u001b[0m\n"
     ]
    },
    {
     "name": "stderr",
     "output_type": "stream",
     "text": [
      "/home/negin/miniconda2/envs/loihi/lib/python3.5/site-packages/ipykernel_launcher.py:10: NxDeprecationWarning: createProcess will be removed in 0.9 in favor of createSnip\n",
      "  # Remove the CWD from sys.path while we load stuff.\n"
     ]
    }
   ],
   "source": [
    "# directory where SNIP C-code\n",
    "includeDir = os.getcwd()\n",
    "# Create SNIP\n",
    "mgmtSnip = board.createProcess(\n",
    "    name=\"runMgmt\",\n",
    "    includeDir=includeDir,\n",
    "    cFilePath=includeDir + \"/setVTh_net.c\", # NxCore level C file\n",
    "    funcName=\"runMgmt\",\n",
    "    guardName=\"doRunMgmt\",\n",
    "    phase=\"mgmt\")\n",
    "\n",
    "# channel: super host to Lakemont - new vTh values\n",
    "# channel name: vThChannel, elements type: int, max capacity: 1 element\n",
    "vThChannel = board.createChannel(b'vThChannel', \"int\", 1)\n",
    "# Sending process is the super host (denoted by None) with mgmtSnip as the receiving process\n",
    "vThChannel.connect(None, mgmtSnip)\n",
    "\n",
    "# channel: Lakemont to super host - time of modification\n",
    "# channel name: timeChannel, element type: int, max capacity: 1 element\n",
    "timeChannel = board.createChannel(b'timeChannel', \"int\", 1)\n",
    "# Sending process is the mgmtSnip and the receiving process is the super host (denoted by None)\n",
    "timeChannel.connect(mgmtSnip, None)\n",
    "\n",
    "# Start driver\n",
    "board.startDriver()"
   ]
  },
  {
   "cell_type": "code",
   "execution_count": null,
   "id": "killing-leather",
   "metadata": {
    "scrolled": true
   },
   "outputs": [
    {
     "name": "stdout",
     "output_type": "stream",
     "text": [
      "\u001b[1;30mINFO\u001b[0m:\u001b[34mDRV\u001b[0m:  Connecting to 127.0.0.1:44423\n",
      "\u001b[1;30mINFO\u001b[0m:\u001b[34mDRV\u001b[0m:      Host server up..............Done 0.03s\n",
      "\u001b[1;30mINFO\u001b[0m:\u001b[34mDRV\u001b[0m:      Encoding axons/synapses.....Done 0.84s\n",
      "\u001b[1;30mINFO\u001b[0m:\u001b[34mDRV\u001b[0m:      Compiling Embedded snips....Done 0.12s\n",
      "\u001b[1;30mINFO\u001b[0m:\u001b[34mHST\u001b[0m:  Using Kapoho Bay serial number 435\n",
      "\u001b[1;30mINFO\u001b[0m:\u001b[34mHST\u001b[0m:  Args chip=0 cpu=0 /home/negin/miniconda2/envs/loihi/lib/python3.5/site-packages/nxsdk/driver/compilers/../../../temp/1621868040.695303/launcher_chip0_lmt0.bin --chips=1 --remote-relay=0 --epoch=0 \n",
      "\u001b[1;30mINFO\u001b[0m:\u001b[34mHST\u001b[0m:  Lakemont_driver...\n",
      "\u001b[1;30mINFO\u001b[0m:\u001b[34mDRV\u001b[0m:      Booting up..................Done 3.32s\n",
      "\u001b[1;30mINFO\u001b[0m:\u001b[34mDRV\u001b[0m:      Encoding probes.............Done 1.09s\n",
      "\u001b[1;30mINFO\u001b[0m:\u001b[34mDRV\u001b[0m:      Transferring probes.........Done 5.27ms\n",
      "\u001b[1;30mINFO\u001b[0m:\u001b[34mDRV\u001b[0m:      Configuring registers.......Done 1.93s\n",
      "\u001b[1;30mINFO\u001b[0m:\u001b[34mDRV\u001b[0m:      Transferring spikes.........Done 0.72ms\n",
      "    Executing... \r"
     ]
    }
   ],
   "source": [
    "times = []\n",
    "\n",
    "# Add initial element in channel otherwise snip might miss it before Python on super host gets to send next element\n",
    "vThChannel.write(1, [0])\n",
    "\n",
    "# Launch execution\n",
    "board.run(numSteps, aSync=True)\n",
    "#net.runAsynch(numSteps=cycles*100)\n",
    "\n",
    "# Read time of last vTh modification from channel and write next vTh value to channel\n",
    "\n",
    "#dt = 10\n",
    "#numSteps = 1000\n",
    "#gen_a.addSpikes(0, [200])\n",
    "#gen_b.addSpikes(0, [500])\n",
    "\n",
    "#motor_position_in.sendSpikes(spikeInputPortNodeIds=(act_angles[i]), numSpikes=1)\n",
    "\n",
    "bias = 0\n",
    "\n",
    "#for i in range(numSteps):\n",
    "#    times.append(timeChannel.read(1)[0])\n",
    "#    if i == 20:\n",
    "#        bias += int(100/64)\n",
    "#    if i == 50:\n",
    "#        bias += int(50/64)\n",
    "#    if i == 72:\n",
    "#        bias = 0\n",
    "#    vThChannel.write(1, [bias])\n",
    "\n",
    "# Finish and disconnect\n",
    "board.finishRun()\n",
    "board.disconnect()\n"
   ]
  },
  {
   "cell_type": "code",
   "execution_count": null,
   "id": "lonely-manor",
   "metadata": {},
   "outputs": [],
   "source": [
    "plt.figure(1, figsize=(18,10))\n",
    "for i in range(n_inputs):\n",
    "    v_probes[i].plot()"
   ]
  },
  {
   "cell_type": "code",
   "execution_count": 5,
   "id": "needed-crime",
   "metadata": {},
   "outputs": [
    {
     "data": {
      "image/png": "[encoded data removed]",
      "text/plain": [
       "<Figure size 1296x720 with 3 Axes>"
      ]
     },
     "metadata": {
      "needs_background": "light"
     },
     "output_type": "display_data"
    }
   ],
   "source": [
    "# Add initial and final values to 'times' and 'vThVals' that have not been sent for plotting\n",
    "times.insert(0, 0)\n",
    "times.append(1000)\n",
    "#vThVals.insert(0, 150)\n",
    "#vThVals.insert(0, 150)\n",
    "#vThVals = vThVals[:-1]\n",
    "\n",
    "# Helper method to draw vertical interval separators whenever we change vTh\n",
    "def drawIntervalSeperators(intervalBoundaries):\n",
    "    for t in intervalBoundaries:\n",
    "        plt.axvline(x=t, color='k', linestyle='--')\n",
    "\n",
    "# Plot compartment current, voltage and spikes\n",
    "plt.figure(2, figsize=(18,10))\n",
    "\n",
    "ax1 = plt.subplot(3, 1, 1)\n",
    "u.plot()\n",
    "plt.title('Compartment Current')\n",
    "#drawIntervalSeperators(times)\n",
    "\n",
    "ax2 = plt.subplot(3, 1, 2)\n",
    "v.plot()\n",
    "plt.title('Compartment Voltage')\n",
    "#plt.step(times, np.array(vThVals)*2**6, color='r', linestyle='--')\n",
    "\n",
    "ax3 = plt.subplot(3, 1, 3)\n",
    "s.plot()\n",
    "plt.title('Compartment Spikes')\n",
    "#drawIntervalSeperators(times)\n",
    "ax3.set_xlim(ax1.get_xlim())\n",
    "\n",
    "plt.show()"
   ]
  },
  {
   "cell_type": "code",
   "execution_count": null,
   "id": "retired-inspection",
   "metadata": {},
   "outputs": [],
   "source": []
  },
  {
   "cell_type": "code",
   "execution_count": null,
   "id": "incident-gauge",
   "metadata": {},
   "outputs": [],
   "source": []
  }
 ],
 "metadata": {
  "kernelspec": {
   "display_name": "Python 3",
   "language": "python",
   "name": "python3"
  },
  "language_info": {
   "codemirror_mode": {
    "name": "ipython",
    "version": 3
   },
   "file_extension": ".py",
   "mimetype": "text/x-python",
   "name": "python",
   "nbconvert_exporter": "python",
   "pygments_lexer": "ipython3",
   "version": "3.5.2"
  }
 },
 "nbformat": 4,
 "nbformat_minor": 5
}
