{
 "cells": [
  {
   "cell_type": "markdown",
   "id": "e5a8d24d-6284-42e3-bf79-fd1e37eebdb2",
   "metadata": {},
   "source": [
    "# Spiking Fourier transform (S-FT) basic example"
   ]
  },
  {
   "cell_type": "markdown",
   "id": "952b1e06-929b-49bf-8bbb-4f5f8def55c3",
   "metadata": {},
   "source": [
    "This notebook will show the main features of the spikingFT library. The examples are meant to illustrate the structure of the simulation and how the SNN dynamics work for the spiking DFT. For getting quantitative error values of the S-FT, execute the script `run_sft.py`."
   ]
  },
  {
   "cell_type": "code",
   "execution_count": null,
   "id": "595c1563-f2a2-420b-a04d-73c3d1a7d18d",
   "metadata": {},
   "outputs": [],
   "source": [
    "import matplotlib.pyplot as plt\n",
    "import numpy as np\n",
    "import pathlib\n",
    "import run_sft"
   ]
  },
  {
   "cell_type": "markdown",
   "id": "7d832fed-6a9c-46b6-85ce-6a235a37856e",
   "metadata": {},
   "source": [
    "## Create and set up a simualtion handler"
   ]
  },
  {
   "cell_type": "markdown",
   "id": "20a80f63-30f8-42be-a97b-944812afe0e4",
   "metadata": {},
   "source": [
    "The simulation configuration is stored in the form of a dictionary. On the example scripts, the configuration is read from json files. For the sake of clarity, in this notebook we create the configuration directly in the code. The meaning of the different configuration parameters is the following:\n",
    "\n",
    "* sim_time: Simulation time of each of the spiking stages involved. Each layer in the SNN contains two stages, silent and spiking\n",
    "* time_step: Time elapsed on each simulation step. NOTE: This value can only be `1` for simulations in Loihi\n",
    "* mode: FT mode of operation. It can be \"fft\" or \"dft\"\n",
    "* current_decay: Internal parameter for the current decay in Loihi. It should always be zero\n",
    "* samples_per_chirp: Amount of samples contained on each chirp of the radar frame\n",
    "* chirps_per_frame: Amount of chirps that will be taken from the radar frame. With the default radar data, can take a maximum value of `4`\n",
    "* antennas: Number of antennas taken into consideration. With the default radar data, it can only be `1`\n",
    "* nframes: Number of frames taken into consideration. With the default radar data, it can only be `1`\n",
    "\n",
    "The S-DFT shows a good performance for the default configuration shown in the next snipped. However, it does not necessarily work for all possible configurations, as it is a proof-of-concept and many situations have not been tested. This is specially the case when running it in Loihi, as the chip has limitations in terms of maximum threshold voltage, voltage resolution, and other relevant variables.\n",
    "\n",
    "Important note: When running the SNN in Loihi, make sure that the SIM_TIME and N_SAMPLES parameters are correctly defined in the `setBias.c` script. This is a limitation in the NxSDK library from Intel that requires a fix that is out of the scope of the SpikingFT library."
   ]
  },
  {
   "cell_type": "code",
   "execution_count": null,
   "id": "e0449f1c-eafe-442d-886f-d236ea81490c",
   "metadata": {},
   "outputs": [],
   "source": [
    "datapath = pathlib.Path(\"../data/TI_radar/special_cases\").resolve()\n",
    "\n",
    "config = {\n",
    "    \"snn_config\": {\n",
    "        \"sim_time\": 150,\n",
    "        \"time_step\": 1,\n",
    "        \"mode\": \"dft\",\n",
    "        \"framework\": \"loihi\",\n",
    "        \"current_decay\": 0,\n",
    "    },\n",
    "    \"data\": {\n",
    "        \"samples_per_chirp\": 256,\n",
    "        \"chirps_per_frame\": 1,\n",
    "        \"antennas\": 1,\n",
    "        \"nframes\": 1\n",
    "    }\n",
    "    \n",
    "}"
   ]
  },
  {
   "cell_type": "markdown",
   "id": "a7c08ee1-f439-4ab7-9c82-2a068a254b94",
   "metadata": {},
   "source": [
    "We create now an instance of the simulation handler class `SimHandler`. The simulation handler is the entry point to the simulation of the SNN, and will store all of the variables, data, and parameters that are required for simulating the network. The configuration will be defined by the dictionary created before"
   ]
  },
  {
   "cell_type": "code",
   "execution_count": null,
   "id": "eefdde14-a7d5-413f-9527-661c4d2a2bb2",
   "metadata": {},
   "outputs": [],
   "source": [
    "import spikingFT.startup\n",
    "sim_handler = spikingFT.startup.run(datapath, config, autorun=False)"
   ]
  },
  {
   "cell_type": "markdown",
   "id": "c360e941-0c47-4481-bd12-40d3b9291c23",
   "metadata": {},
   "source": [
    "The output of the simulation is centered around zero, so it shows the time relative to the middle of the simulation time. Therefore, positive spike times represent positive values, and negative spike times respresent negative values. The original spiking times are stored in the variable `sim_handler.snn.spikes`. Later on this tutorial, we will plot this times as well.\n",
    "\n",
    "If running in Loihi, this step may take some time"
   ]
  },
  {
   "cell_type": "code",
   "execution_count": null,
   "id": "9cf20a07-72ee-4902-b055-38cf0b22afb2",
   "metadata": {},
   "outputs": [],
   "source": [
    "sim_handler.run()\n",
    "real_spikes = sim_handler.output[:, 0]\n",
    "imag_spikes = sim_handler.output[:, 1]"
   ]
  },
  {
   "cell_type": "markdown",
   "id": "0ad200e0-85f4-4d59-b6d0-db8ad782c7c2",
   "metadata": {},
   "source": [
    "Extract the real and imaginary components of the S-FT output. The modulus is calculated as the L2-norm of these two components. For visualization purposes, we change the result of the modulus to a logarithmic scale"
   ]
  },
  {
   "cell_type": "code",
   "execution_count": null,
   "id": "a224aeb8-80d1-4dd5-bab4-0df8b2d2fcd8",
   "metadata": {},
   "outputs": [],
   "source": [
    "nsamples = config[\"data\"][\"samples_per_chirp\"]\n",
    "# Remove offset bin and negative spectrum. They do not contain relevant information\n",
    "sft_real = real_spikes[1:int(nsamples/2)]\n",
    "sft_imag = imag_spikes[1:int(nsamples/2)]\n",
    "# Normalize between -1 and 1\n",
    "sft_max = np.max(np.abs(np.hstack([sft_real, sft_imag])))\n",
    "sft_real = real_spikes / sft_max\n",
    "sft_imag = imag_spikes / sft_max\n",
    "sft_modulus = np.sqrt(sft_real**2 + sft_imag**2)\n",
    "sft_modulus = np.log10(9*sft_modulus/sft_modulus.max()+1)"
   ]
  },
  {
   "cell_type": "code",
   "execution_count": null,
   "id": "72fea7ee-2e01-4eb8-8ed2-c898baa99778",
   "metadata": {},
   "outputs": [],
   "source": [
    "data = sim_handler.raw_data[0, 0, :]\n",
    "norm_data = data - data.min()\n",
    "norm_data /= norm_data.max()\n",
    "norm_data = (norm_data-0.5) * 2\n",
    "ft_np = np.fft.fft(norm_data) / (nsamples/2)\n",
    "ft_real = ft_np.real[1:int(nsamples/2)]\n",
    "ft_imag = ft_np.imag[1:int(nsamples/2)]\n",
    "ft_modulus = np.abs(ft_np)[1:int(nsamples/2)]"
   ]
  },
  {
   "cell_type": "code",
   "execution_count": null,
   "id": "b89b4217-8bc5-4711-97c9-67c1589d170e",
   "metadata": {},
   "outputs": [],
   "source": [
    "fig, axes = plt.subplots(nrows=3, ncols=2, figsize = (30, 15))\n",
    "axes[0,0].plot(real_spikes[1:128])\n",
    "axes[1,0].plot(imag_spikes[1:128])\n",
    "axes[2,0].plot(sft_modulus[1:128])\n",
    "\n",
    "axes[0,1].plot(ft_real)\n",
    "axes[1,1].plot(ft_imag)\n",
    "axes[2,1].plot(ft_modulus)"
   ]
  },
  {
   "cell_type": "markdown",
   "id": "4a245455-196b-4037-a55a-41a067f3cea2",
   "metadata": {},
   "source": [
    "## Plot neuronal dynamics\n",
    "\n",
    "We will plot next the dynamics of the voltage and spike times for all the neurons involved in the simulation.\n",
    "\n",
    "In the plot, it is very easy to observe a breaking point at half the simulation time. This indicates the change from the _silent stage_ to the _spiking stage_. Throughout the second stage, the membrane voltage of the neurons is charged with a constant current that provokes a spike at a time proportional to the voltage at the end of the _silent stage_.\n"
   ]
  },
  {
   "cell_type": "code",
   "execution_count": null,
   "id": "6de9ba66-3704-46ca-bf5d-63c39fd64242",
   "metadata": {},
   "outputs": [],
   "source": [
    "sim_time = config[\"snn_config\"][\"sim_time\"]\n",
    "spikes = sim_handler.snn.spikes\n",
    "voltage = sim_handler.snn.voltage\n",
    "real = spikes[:, 0][1:int(nsamples/2)]\n",
    "imag = spikes[:, 1][1:int(nsamples/2)]\n",
    "\n",
    "# Plot S-FT result and reference result\n",
    "kwargs = {}\n",
    "kwargs[\"plot_names\"] = [\"voltages\", \"spikes\"]\n",
    "kwargs[\"data\"] = [\n",
    "voltage,\n",
    "(real, imag, 2*sim_time),\n",
    "]\n",
    "sim_plotter = spikingFT.utils.plotter.SNNSimulationPlotter(**kwargs)\n",
    "plt.rcParams['figure.figsize'] = [30, 10]\n",
    "fig = sim_plotter()\n"
   ]
  }
 ],
 "metadata": {
  "kernelspec": {
   "display_name": "Python 3 (ipykernel)",
   "language": "python",
   "name": "python3"
  },
  "language_info": {
   "codemirror_mode": {
    "name": "ipython",
    "version": 3
   },
   "file_extension": ".py",
   "mimetype": "text/x-python",
   "name": "python",
   "nbconvert_exporter": "python",
   "pygments_lexer": "ipython3",
   "version": "3.8.10"
  }
 },
 "nbformat": 4,
 "nbformat_minor": 5
}
