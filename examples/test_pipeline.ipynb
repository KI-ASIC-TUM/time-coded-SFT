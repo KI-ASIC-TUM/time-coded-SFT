{
 "cells": [
  {
   "cell_type": "markdown",
   "id": "6471fc14-8c6b-4cc7-bc96-c1d0e2a3e4b6",
   "metadata": {},
   "source": [
    "# Import main library and run test experiment\n",
    "\n",
    "Test that the library is correctly installed in the current virtual environment by doing a global import. Then, test the basic functionality by executing a test run with dummy data.\n",
    "\n",
    "In order to install the library locally, navigate to its root folder and run the following command:\n",
    "\n",
    "    pip install -e ."
   ]
  },
  {
   "cell_type": "code",
   "execution_count": 6,
   "id": "66a4c2bc-5aac-42e5-8ade-e457867be252",
   "metadata": {},
   "outputs": [],
   "source": [
    "import spikingFT.startup"
   ]
  },
  {
   "cell_type": "code",
   "execution_count": 8,
   "id": "82a81ac8-30ae-42a8-b962-e6cf18a5b1d5",
   "metadata": {},
   "outputs": [
    {
     "name": "stderr",
     "output_type": "stream",
     "text": [
      "INFO: Running spiking-FT:\n",
      "- Configuration file: ../config/test_experiment.json\n",
      "INFO: Execution finished\n"
     ]
    }
   ],
   "source": [
    "conf_file = \"../config/test_experiment.json\"\n",
    "spikingFT.startup.startup(conf_file)\n"
   ]
  },
  {
   "cell_type": "code",
   "execution_count": null,
   "id": "b5baf710-13e5-47d6-837f-c3be39d496a1",
   "metadata": {},
   "outputs": [],
   "source": []
  }
 ],
 "metadata": {
  "kernelspec": {
   "display_name": "Python 3",
   "language": "python",
   "name": "python3"
  },
  "language_info": {
   "codemirror_mode": {
    "name": "ipython",
    "version": 3
   },
   "file_extension": ".py",
   "mimetype": "text/x-python",
   "name": "python",
   "nbconvert_exporter": "python",
   "pygments_lexer": "ipython3",
   "version": "3.6.9"
  }
 },
 "nbformat": 4,
 "nbformat_minor": 5
}
