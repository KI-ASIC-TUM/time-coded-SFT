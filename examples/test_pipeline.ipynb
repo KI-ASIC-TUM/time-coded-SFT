{
 "cells": [
  {
   "cell_type": "markdown",
   "id": "6471fc14-8c6b-4cc7-bc96-c1d0e2a3e4b6",
   "metadata": {},
   "source": [
    "# Import main library and run test experiment\n",
    "\n",
    "Test that the library is correctly installed in the current virtual environment by doing a global import. Then, test the basic functionality by executing a test run with dummy data.\n",
    "\n",
    "In order to install the library locally, navigate to its root folder and run the following command:\n",
    "\n",
    "    pip install -e .\n",
    "    \n",
    "For running the simulation, we can either load a configuration file in the config folder, or write the configuration manually and adding it to the simulation handler\n",
    "\n",
    "## Method 1: Using a configuration file"
   ]
  },
  {
   "cell_type": "code",
   "execution_count": 1,
   "id": "66a4c2bc-5aac-42e5-8ade-e457867be252",
   "metadata": {},
   "outputs": [],
   "source": [
    "import spikingFT.startup\n",
    "import matplotlib.pyplot as plt\n",
    "import numpy as np"
   ]
  },
  {
   "cell_type": "code",
   "execution_count": 2,
   "id": "82a81ac8-30ae-42a8-b962-e6cf18a5b1d5",
   "metadata": {},
   "outputs": [
    {
     "name": "stderr",
     "output_type": "stream",
     "text": [
      "INFO: Running spiking-FT:\n",
      "- Configuration file: ../config/test_experiment.json\n",
      "INFO: Loading data\n",
      "INFO: Data loaded:\n",
      "- Source: TI_sensor\n",
      "- Nº frames: 1\n",
      "- Nº chirps: 1\n",
      "- Nº samples: 1024\n",
      "INFO: Initializaing SNN simulation\n",
      "INFO: Running SNN simulation\n",
      "INFO: Execution finished\n"
     ]
    }
   ],
   "source": [
    "conf_file = \"../config/test_experiment.json\"\n",
    "sim = spikingFT.startup.startup(conf_file)"
   ]
  },
  {
   "cell_type": "code",
   "execution_count": 3,
   "id": "b5baf710-13e5-47d6-837f-c3be39d496a1",
   "metadata": {},
   "outputs": [
    {
     "data": {
      "text/plain": [
       "[<matplotlib.lines.Line2D at 0x7f2f605a6b70>]"
      ]
     },
     "execution_count": 3,
     "metadata": {},
     "output_type": "execute_result"
    },
    {
     "data": {
      "image/png": "[encoded data removed]",
      "text/plain": [
       "<Figure size 432x288 with 1 Axes>"
      ]
     },
     "metadata": {
      "needs_background": "light"
     },
     "output_type": "display_data"
    }
   ],
   "source": [
    "chirp_data = sim.encoded_data[0, 0, :, 0]\n",
    "fft = np.abs(np.fft.fft(chirp_data))\n",
    "plt.plot(fft[1:int(fft.size/2)])"
   ]
  },
  {
   "cell_type": "markdown",
   "id": "b832a9b3-ff76-41ca-9c75-388a0ae9d778",
   "metadata": {},
   "source": [
    "## Method 2: Setting the configuration manually"
   ]
  },
  {
   "cell_type": "code",
   "execution_count": 15,
   "id": "209b7929-dddb-4227-850f-906f5bc7aebc",
   "metadata": {},
   "outputs": [],
   "source": [
    "import spikingFT.sim_handler\n",
    "import matplotlib.pyplot as plt\n",
    "import numpy as np\n",
    "import os\n",
    "import pathlib"
   ]
  },
  {
   "cell_type": "code",
   "execution_count": 31,
   "id": "6781b3b2-5f91-417b-89fb-beb0110ffb38",
   "metadata": {},
   "outputs": [],
   "source": [
    "path = \"data/TI_radar\"\n",
    "\n",
    "config = {}\n",
    "config[\"snn_config\"] = {\n",
    "    \"iterations\": 100,\n",
    "    \"mode\": \"dft\",\n",
    "    \"framework\": \"loihi\"\n",
    "}\n",
    "config[\"data\"] = {\n",
    "    \"samples_per_chirp\": 1024,\n",
    "    \"chirps_per_frame\": 10,\n",
    "    \"antennas\": 1,\n",
    "    \"nframes\": 1\n",
    "}"
   ]
  },
  {
   "cell_type": "code",
   "execution_count": 32,
   "id": "50c841c9-680a-422b-8ac1-67e419684e91",
   "metadata": {},
   "outputs": [
    {
     "name": "stderr",
     "output_type": "stream",
     "text": [
      "INFO: Loading data\n",
      "INFO: Data loaded:\n",
      "- Source: TI_sensor\n",
      "- Nº frames: 1\n",
      "- Nº chirps: 10\n",
      "- Nº samples: 1024\n",
      "INFO: Initializaing SNN simulation\n",
      "INFO: Running SNN simulation\n"
     ]
    }
   ],
   "source": [
    "datapath = pathlib.Path('').resolve().parent.joinpath(datapath)\n",
    "sim_handler = spikingFT.sim_handler.SimHandler(datapath, config)\n",
    "sim_handler.run()"
   ]
  },
  {
   "cell_type": "code",
   "execution_count": 41,
   "id": "56d90b22-3f27-4a54-8099-0966e4c90c9a",
   "metadata": {},
   "outputs": [
    {
     "data": {
      "text/plain": [
       "[<matplotlib.lines.Line2D at 0x7f2f4dc8bd30>]"
      ]
     },
     "execution_count": 41,
     "metadata": {},
     "output_type": "execute_result"
    },
    {
     "data": {
      "image/png": "[encoded data removed]",
      "text/plain": [
       "<Figure size 432x288 with 1 Axes>"
      ]
     },
     "metadata": {
      "needs_background": "light"
     },
     "output_type": "display_data"
    }
   ],
   "source": [
    "chirp_data = sim_handler.encoded_data[0, 5, :, 0]\n",
    "fft = np.abs(np.fft.fft(chirp_data))\n",
    "plt.plot(fft[1:int(fft.size/2)])"
   ]
  },
  {
   "cell_type": "code",
   "execution_count": 36,
   "id": "23ba0824-efac-4860-8070-643435387b9b",
   "metadata": {},
   "outputs": [
    {
     "data": {
      "text/plain": [
       "(1, 10, 1024, 1)"
      ]
     },
     "execution_count": 36,
     "metadata": {},
     "output_type": "execute_result"
    }
   ],
   "source": [
    "sim_handler.encoded_data.shape"
   ]
  },
  {
   "cell_type": "code",
   "execution_count": null,
   "id": "ad75997f-935f-4e12-9c24-59318f73b724",
   "metadata": {},
   "outputs": [],
   "source": []
  }
 ],
 "metadata": {
  "kernelspec": {
   "display_name": "Python 3",
   "language": "python",
   "name": "python3"
  },
  "language_info": {
   "codemirror_mode": {
    "name": "ipython",
    "version": 3
   },
   "file_extension": ".py",
   "mimetype": "text/x-python",
   "name": "python",
   "nbconvert_exporter": "python",
   "pygments_lexer": "ipython3",
   "version": "3.6.9"
  }
 },
 "nbformat": 4,
 "nbformat_minor": 5
}
