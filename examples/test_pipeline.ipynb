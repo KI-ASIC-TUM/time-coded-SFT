{
 "cells": [
  {
   "cell_type": "markdown",
   "id": "6471fc14-8c6b-4cc7-bc96-c1d0e2a3e4b6",
   "metadata": {},
   "source": [
    "# Import main library and run test experiment\n",
    "\n",
    "Test that the library is correctly installed in the current virtual environment by doing a global import. Then, test the basic functionality by executing a test run with dummy data.\n",
    "\n",
    "In order to install the library locally, navigate to its root folder and run the following command:\n",
    "\n",
    "    pip install -e .\n",
    "    \n",
    "For running the simulation, we can either load a configuration file in the config folder, or write the configuration manually and adding it to the simulation handler\n",
    "\n",
    "## Method 1: Using a configuration file"
   ]
  },
  {
   "cell_type": "code",
   "execution_count": null,
   "id": "66a4c2bc-5aac-42e5-8ade-e457867be252",
   "metadata": {},
   "outputs": [],
   "source": [
    "import spikingFT.startup\n",
    "import matplotlib.pyplot as plt\n",
    "import numpy as np"
   ]
  },
  {
   "cell_type": "code",
   "execution_count": null,
   "id": "82a81ac8-30ae-42a8-b962-e6cf18a5b1d5",
   "metadata": {},
   "outputs": [],
   "source": [
    "conf_file = \"../config/test_experiment.json\"\n",
    "sim_handler = spikingFT.startup.startup(conf_file)"
   ]
  },
  {
   "cell_type": "code",
   "execution_count": null,
   "id": "b5baf710-13e5-47d6-837f-c3be39d496a1",
   "metadata": {},
   "outputs": [],
   "source": [
    "chirp_data = sim.encoded_data[0,:]\n",
    "fft = np.abs(np.fft.fft(chirp_data))\n",
    "fig = plt.plot(fft[1:int(fft.size/2)])"
   ]
  },
  {
   "cell_type": "markdown",
   "id": "b832a9b3-ff76-41ca-9c75-388a0ae9d778",
   "metadata": {},
   "source": [
    "## Method 2: Setting the configuration manually"
   ]
  },
  {
   "cell_type": "code",
   "execution_count": null,
   "id": "209b7929-dddb-4227-850f-906f5bc7aebc",
   "metadata": {},
   "outputs": [],
   "source": [
    "import spikingFT.sim_handler\n",
    "import matplotlib.pyplot as plt\n",
    "import numpy as np\n",
    "import os\n",
    "import pathlib"
   ]
  },
  {
   "cell_type": "code",
   "execution_count": null,
   "id": "6781b3b2-5f91-417b-89fb-beb0110ffb38",
   "metadata": {},
   "outputs": [],
   "source": [
    "path = \"data/BBM\"\n",
    "\n",
    "config = {}\n",
    "config[\"snn_config\"] = {\n",
    "    \"sim_time\": 200,\n",
    "    \"mode\": \"dft\",\n",
    "    \"framework\": \"loihi\",\n",
    "    \"current_decay\": 0,\n",
    "    \"measure_performance\": False\n",
    "}\n",
    "config[\"data\"] = {\n",
    "    \"samples_per_chirp\": 64,\n",
    "    \"chirps_per_frame\": 1,\n",
    "    \"antennas\": 1,\n",
    "    \"nframes\": 1\n",
    "}"
   ]
  },
  {
   "cell_type": "markdown",
   "id": "7bba9aa8-911a-4d95-8452-e0132d798fc4",
   "metadata": {},
   "source": [
    "### Instantiate the simulation handler and run the simulation with the given configuration"
   ]
  },
  {
   "cell_type": "code",
   "execution_count": null,
   "id": "a90b2e44-ea4b-4e7c-baed-b433db7f8e4c",
   "metadata": {},
   "outputs": [],
   "source": [
    "datapath = pathlib.Path('').resolve().parent.joinpath(path)\n",
    "sim_handler = spikingFT.sim_handler.SimHandler(datapath, config)\n",
    "sim_handler.run()"
   ]
  },
  {
   "cell_type": "markdown",
   "id": "9aab8bd5-cd02-495c-91c5-c8b0dc487878",
   "metadata": {},
   "source": [
    "### Collect the output data from the SNN and plot simulation output\n",
    "\n",
    "The output is stored in the voltage probes and in the spiking probes, which are hanging from the simulator handler.\n",
    "If the configuration of the network was good, it should be possible to observe the following patterns in the voltage plot:\n",
    "\n",
    "* A clear change from the charging stage to the spiking stage at t=sim_time\n",
    "* A majority of neurons ending the charging stage around 0V and spiking at around sim_time*1.5\n",
    "* The offset neuron typically has a very high value and spikes very soon. This value is filtered out in the final result plot"
   ]
  },
  {
   "cell_type": "code",
   "execution_count": null,
   "id": "1deefb0d-556f-4dd3-bba3-ddc06c5b1d2a",
   "metadata": {},
   "outputs": [],
   "source": [
    "config = sim_handler.config\n",
    "sim_time = config[\"snn_config\"][\"sim_time\"]\n",
    "nsamples = config[\"data\"][\"samples_per_chirp\"]\n",
    "\n",
    "plt.figure(2, figsize=(15,15))\n",
    "ax1 = plt.subplot(2, 1, 1)\n",
    "\n",
    "v_plots_re = sim_handler.snn.l1_real_probes_V[0].plot()\n",
    "v_plots_im = sim_handler.snn.l1_imag_probes_V[0].plot()\n",
    "plt.title('Voltage over time')\n",
    "\n",
    "cr = []\n",
    "ci = []\n",
    "for i in range(nsamples):\n",
    "    cr.append(v_plots_re[i].get_color())\n",
    "    ci.append(v_plots_im[i].get_color())\n",
    "\n",
    "ax2 = plt.subplot(2, 1, 2)\n",
    "sr = sim_handler.snn.l1_real_probes_S[0].plot(colors=cr)\n",
    "si = sim_handler.snn.l1_imag_probes_S[0].plot(colors=ci)\n",
    "\n",
    "plt.title('Spikes over time')"
   ]
  },
  {
   "cell_type": "markdown",
   "id": "034f5897-25a1-48c2-abe2-0bdd9f82c234",
   "metadata": {},
   "source": [
    "### Plot S-FT final result\n",
    "\n",
    "Combine the spiking times of the neurons representing the real and imaginary terms of the FT, so the modulus can be plotted.\n",
    "Most of the values should be laying around zero. If that is not the case, the time offset removal is faulty. Check in the previous step that neurons representing values around zero spike at around sim_time*1.5"
   ]
  },
  {
   "cell_type": "code",
   "execution_count": null,
   "id": "841cb8d7-0682-4710-b2f1-ee718d0c2391",
   "metadata": {},
   "outputs": [],
   "source": [
    "sr = []\n",
    "si = []\n",
    "\n",
    "for i in range(1, nsamples):\n",
    "    spike_data = np.array(sim_handler.snn.l1_real_probes_S[0][i].data)\n",
    "    spike_t = np.where(spike_data==1)\n",
    "    single_spike_t = spike_t[0][0] if spike_t[0].size != 0 else sim_time*1.5\n",
    "    sr.append(single_spike_t-sim_time*1.5)\n",
    "    \n",
    "for i in range(1, nsamples):\n",
    "    spike_data = np.array(sim_handler.snn.l1_imag_probes_S[0][i].data)\n",
    "    spike_t = np.where(spike_data==1)\n",
    "    single_spike_t = spike_t[0][0] if spike_t[0].size != 0 else sim_time*1.5\n",
    "    si.append(single_spike_t-sim_time*1.5)\n",
    "    \n",
    "plt.figure()\n",
    "plt.title('SDFT Result')\n",
    "sdft = np.sqrt(np.array(sr)**2+np.array(si)**2)\n",
    "result = np.split(sdft ,[int(nsamples/2),int(nsamples/2)])\n",
    "\n",
    "plt.plot(result[0])"
   ]
  },
  {
   "cell_type": "markdown",
   "id": "4246046a-314e-4bb2-9ce2-85113d1e7037",
   "metadata": {},
   "source": [
    "### Show the ideal output of the DFT (computed in numpy)"
   ]
  },
  {
   "cell_type": "code",
   "execution_count": null,
   "id": "2d88ee29-768f-4ae2-b117-73abfbabf620",
   "metadata": {},
   "outputs": [],
   "source": [
    "chirp_data = sim_handler.encoded_data[0, :]\n",
    "fft = np.abs(np.fft.fft(chirp_data))\n",
    "plt.plot(fft[1:int(fft.size/2)])\n"
   ]
  }
 ],
 "metadata": {
  "kernelspec": {
   "display_name": "Python 3 (ipykernel)",
   "language": "python",
   "name": "python3"
  },
  "language_info": {
   "codemirror_mode": {
    "name": "ipython",
    "version": 3
   },
   "file_extension": ".py",
   "mimetype": "text/x-python",
   "name": "python",
   "nbconvert_exporter": "python",
   "pygments_lexer": "ipython3",
   "version": "3.8.10"
  }
 },
 "nbformat": 4,
 "nbformat_minor": 5
}
