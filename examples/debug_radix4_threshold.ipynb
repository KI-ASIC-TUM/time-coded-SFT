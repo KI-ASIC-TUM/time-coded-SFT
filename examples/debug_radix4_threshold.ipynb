{
 "cells": [
  {
   "cell_type": "code",
   "execution_count": null,
   "id": "834ecaef",
   "metadata": {},
   "outputs": [
    {
     "name": "stderr",
     "output_type": "stream",
     "text": [
      "INFO: Running spiking-FT:\n",
      "- Configuration file: ../config/test_radix4.json\n",
      "- FT mode: fft\n",
      "- Framework: radix4loihi\n",
      "- Test performance: False\n",
      "- Nº Samples: 64\n",
      "INFO: Loading data\n",
      "INFO: Data loaded:\n",
      "- Source: BBM\n",
      "- Nº frames: 1\n",
      "- Nº chirps: 1\n",
      "- Nº samples: 64\n",
      "INFO: Encoding data to spikes\n",
      "INFO: Initializing SNN simulation\n",
      "DEBUG: Creating Compartments ...\n",
      "DEBUG: Creating CompartmentPrototypes of Layer 0 ...\n",
      "DEBUG: Creating CompartmentPrototypes of Layer 1 ...\n",
      "DEBUG: Creating CompartmentPrototypes of Layer 2 ...\n",
      "DEBUG: Done.\n",
      "DEBUG: Creating ConnectionPrototype ...\n",
      "DEBUG: Creating auxillary neurons ...\n",
      "DEBUG: Clock neuron connected to layer 0.\n",
      "DEBUG: Reset neuron connected to layer 0.\n",
      "DEBUG: Clock neuron connected to layer 1.\n",
      "DEBUG: Reset neuron connected to layer 1.\n",
      "DEBUG: Clock neuron connected to layer 2.\n",
      "DEBUG: Reset neuron connected to layer 2.\n",
      "DEBUG: Done.\n",
      "DEBUG: Creating Probes ...\n",
      "DEBUG: Creating Probes of Layer 0 ...\n",
      "DEBUG: Creating Probes of Layer 1 ...\n",
      "DEBUG: Creating Probes of Layer 2 ...\n",
      "DEBUG: Done.\n",
      "INFO: Running SNN simulation\n",
      "DEBUG: Creating input spike generators\n",
      "DEBUG: Assigning spike times to input spike generators\n",
      "DEBUG: Connecting layers ...\n",
      "DEBUG: Creating connection prototype ...\n",
      "DEBUG: Start connecting ...\n",
      "DEBUG: Layer 0 connected to Layer 1\n",
      "DEBUG: Layer 1 connected to Layer 2\n",
      "DEBUG: Layer 2 connected to Layer 3\n",
      "DEBUG: Done.\n",
      "DEBUG: Compiling n2board ...\n",
      "DEBUG: Done.\n",
      "DEBUG: Starting driver ...\n"
     ]
    },
    {
     "name": "stdout",
     "output_type": "stream",
     "text": [
      "\u001b[1;30mINFO\u001b[0m:\u001b[34mDRV\u001b[0m:  Connecting to 127.0.0.1:43445\n",
      "\u001b[1;30mINFO\u001b[0m:\u001b[34mDRV\u001b[0m:      Host server up..............Done 0.22s\n",
      "\u001b[1;30mINFO\u001b[0m:\u001b[34mDRV\u001b[0m:      Encoding axons/synapses.....Done 0.05s\n",
      "\u001b[1;30mINFO\u001b[0m:\u001b[34mDRV\u001b[0m:      Compiling Embedded snips....Done 0.11s\n",
      "\u001b[1;30mINFO\u001b[0m:\u001b[34mDRV\u001b[0m:      Compiling MPDS Registers....Done 0.49ms\n",
      "\u001b[1;30mINFO\u001b[0m:\u001b[34mDRV\u001b[0m:      Booting up..................Done 2.19s\n",
      "\u001b[1;30mINFO\u001b[0m:\u001b[34mDRV\u001b[0m:      Encoding probes.............Done 1.43ms\n"
     ]
    },
    {
     "name": "stderr",
     "output_type": "stream",
     "text": [
      "DEBUG: Done.\n",
      "DEBUG: Running simulation ... \n"
     ]
    },
    {
     "name": "stdout",
     "output_type": "stream",
     "text": [
      "\u001b[1;30mINFO\u001b[0m:\u001b[34mDRV\u001b[0m:      Transferring probes.........Done 4.56ms\n",
      "\u001b[1;30mINFO\u001b[0m:\u001b[34mDRV\u001b[0m:      Configuring registers.......Done 0.28s\n",
      "\u001b[1;30mINFO\u001b[0m:\u001b[34mDRV\u001b[0m:      Transferring spikes.........Done 0.01s\n"
     ]
    },
    {
     "name": "stderr",
     "output_type": "stream",
     "text": [
      "INFO: Finishing Loihi execution. Disconnecting board ...\n"
     ]
    },
    {
     "name": "stdout",
     "output_type": "stream",
     "text": [
      "\u001b[1;30mINFO\u001b[0m:\u001b[34mDRV\u001b[0m:      Executing...................Done 20.49s\n",
      "\u001b[1;30mINFO\u001b[0m:\u001b[34mDRV\u001b[0m:      Processing timeseries.......Done 0.62s\n",
      "\u001b[1;30mINFO\u001b[0m:\u001b[34mHST\u001b[0m:  Using Kapoho Bay serial number 435\n",
      "\u001b[1;30mINFO\u001b[0m:\u001b[34mHST\u001b[0m:  Args chip=0 cpu=0 /usr/local/lib/python3.8/dist-packages/nxsdk/driver/compilers/../../../temp/1632924003.5847785/launcher_chip0_lmt0.bin --chips=1 --epoch=0 --remote-relay=0 \n",
      "\u001b[1;30mINFO\u001b[0m:\u001b[34mHST\u001b[0m:  Nx...\n",
      "\u001b[1;30mINFO\u001b[0m:\u001b[34mHST\u001b[0m:  chip=0 cpu=0 halted, status=0x0\n"
     ]
    },
    {
     "name": "stderr",
     "output_type": "stream",
     "text": [
      "DEBUG: Done.\n",
      "DEBUG: Run finished.\n",
      "DEBUG: Resulting RMSE: 0.26205623715285986\n",
      "INFO: Execution finished\n"
     ]
    }
   ],
   "source": [
    "#!/usr/bin/env python3\n",
    "\"\"\"\n",
    "Script for testing the SNNNumpy class with sample data\n",
    "\"\"\"\n",
    "# Standard libraries\n",
    "import matplotlib.pyplot as plt\n",
    "import numpy as np\n",
    "# Local libraries\n",
    "import spikingFT.startup\n",
    "import spikingFT.utils. plotter\n",
    "\n",
    "# Instantiate a simulation handler and run spiking FT with sample data\n",
    "sim_handler = spikingFT.startup.startup('../config/test_radix4.json')\n",
    "nsamples = sim_handler.snn.nsamples\n",
    "real_spikes = sim_handler.output[:, 0][:]\n",
    "imag_spikes = sim_handler.output[:, 1][:]\n",
    "sft_modulus = np.sqrt(real_spikes**2 + imag_spikes**2)\n",
    "\n",
    "# Plot S-FT result and reference result\n",
    "kwargs = {}\n",
    "kwargs[\"plot_names\"] = [\"voltages\", \"spikes\", \"FT\"]\n",
    "kwargs[\"data\"] = [\n",
    "    sim_handler.snn.voltage,\n",
    "    (real_spikes, imag_spikes),\n",
    "    sft_modulus\n",
    "]\n",
    "sim_plotter = spikingFT.utils.plotter.SNNSimulationPlotter(**kwargs)\n",
    "sim_plotter()\n",
    "plt.show\n",
    "\n"
   ]
  },
  {
   "cell_type": "code",
   "execution_count": null,
   "id": "f098b635",
   "metadata": {},
   "outputs": [],
   "source": [
    "#!/usr/bin/env python3\n",
    "\"\"\"\n",
    "Script for testing the SNNNumpy class with sample data\n",
    "\"\"\"\n",
    "# Standard libraries\n",
    "import matplotlib.pyplot as plt\n",
    "import numpy as np\n",
    "# Local libraries\n",
    "import spikingFT.startup\n",
    "import spikingFT.utils. plotter\n",
    "\n",
    "# Instantiate a simulation handler and run spiking FT with sample data\n",
    "sim_handler = spikingFT.startup.startup('../config/test_experiment.json')\n",
    "nsamples = sim_handler.snn.nsamples\n",
    "real_spikes = sim_handler.output[:, 0][1:]\n",
    "imag_spikes = sim_handler.output[:, 1][1:]\n",
    "sft_modulus = np.sqrt(real_spikes**2 + imag_spikes**2)\n",
    "\n",
    "# Plot S-FT result and reference result\n",
    "kwargs = {}\n",
    "kwargs[\"plot_names\"] = [\"voltages\", \"spikes\", \"FT\"]\n",
    "kwargs[\"data\"] = [\n",
    "    sim_handler.snn.voltage,\n",
    "    (real_spikes, imag_spikes),\n",
    "    sft_modulus\n",
    "]\n",
    "sim_plotter = spikingFT.utils.plotter.SNNSimulationPlotter(**kwargs)\n",
    "sim_plotter()\n",
    "plt.show\n"
   ]
  },
  {
   "cell_type": "code",
   "execution_count": null,
   "id": "c6da0747",
   "metadata": {},
   "outputs": [],
   "source": []
  }
 ],
 "metadata": {
  "kernelspec": {
   "display_name": "Python 3 (ipykernel)",
   "language": "python",
   "name": "python3"
  },
  "language_info": {
   "codemirror_mode": {
    "name": "ipython",
    "version": 3
   },
   "file_extension": ".py",
   "mimetype": "text/x-python",
   "name": "python",
   "nbconvert_exporter": "python",
   "pygments_lexer": "ipython3",
   "version": "3.8.10"
  }
 },
 "nbformat": 4,
 "nbformat_minor": 5
}
