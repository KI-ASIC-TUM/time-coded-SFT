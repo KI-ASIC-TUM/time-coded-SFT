{
 "cells": [
  {
   "cell_type": "code",
   "execution_count": 1,
   "id": "834ecaef",
   "metadata": {},
   "outputs": [
    {
     "name": "stderr",
     "output_type": "stream",
     "text": [
      "Intel NxSDK cannot be found. It will not be possible to run simulations with Loihi\n",
      "Intel NxSDK cannot be found. It will not be possible to run simulations with Loihi\n"
     ]
    },
    {
     "ename": "KeyError",
     "evalue": "'time_step'",
     "output_type": "error",
     "traceback": [
      "\u001b[0;31m---------------------------------------------------------------------------\u001b[0m",
      "\u001b[0;31mKeyError\u001b[0m                                  Traceback (most recent call last)",
      "\u001b[0;32m<ipython-input-1-f1e9082fd504>\u001b[0m in \u001b[0;36m<module>\u001b[0;34m\u001b[0m\n\u001b[1;32m     11\u001b[0m \u001b[0;34m\u001b[0m\u001b[0m\n\u001b[1;32m     12\u001b[0m \u001b[0;31m# Instantiate a simulation handler and run spiking FT with sample data\u001b[0m\u001b[0;34m\u001b[0m\u001b[0;34m\u001b[0m\u001b[0;34m\u001b[0m\u001b[0m\n\u001b[0;32m---> 13\u001b[0;31m \u001b[0msim_handler\u001b[0m \u001b[0;34m=\u001b[0m \u001b[0mspikingFT\u001b[0m\u001b[0;34m.\u001b[0m\u001b[0mstartup\u001b[0m\u001b[0;34m.\u001b[0m\u001b[0mstartup\u001b[0m\u001b[0;34m(\u001b[0m\u001b[0;34m'../config/test_radix4.json'\u001b[0m\u001b[0;34m)\u001b[0m\u001b[0;34m\u001b[0m\u001b[0;34m\u001b[0m\u001b[0m\n\u001b[0m\u001b[1;32m     14\u001b[0m \u001b[0mnsamples\u001b[0m \u001b[0;34m=\u001b[0m \u001b[0msim_handler\u001b[0m\u001b[0;34m.\u001b[0m\u001b[0msnn\u001b[0m\u001b[0;34m.\u001b[0m\u001b[0mnsamples\u001b[0m\u001b[0;34m\u001b[0m\u001b[0;34m\u001b[0m\u001b[0m\n\u001b[1;32m     15\u001b[0m \u001b[0mreal_spikes\u001b[0m \u001b[0;34m=\u001b[0m \u001b[0msim_handler\u001b[0m\u001b[0;34m.\u001b[0m\u001b[0moutput\u001b[0m\u001b[0;34m[\u001b[0m\u001b[0;34m:\u001b[0m\u001b[0;34m,\u001b[0m \u001b[0;36m0\u001b[0m\u001b[0;34m]\u001b[0m\u001b[0;34m[\u001b[0m\u001b[0;34m:\u001b[0m\u001b[0;34m]\u001b[0m\u001b[0;34m\u001b[0m\u001b[0;34m\u001b[0m\u001b[0m\n",
      "\u001b[0;32m~/Work/TUM/code/spiking_FT_Loihi/spikingFT/startup.py\u001b[0m in \u001b[0;36mstartup\u001b[0;34m(conf_file, show_plot, autorun)\u001b[0m\n\u001b[1;32m    118\u001b[0m     \u001b[0mmsg\u001b[0m \u001b[0;34m+=\u001b[0m \u001b[0;34m\"\\n- Configuration file: {}\"\u001b[0m\u001b[0;34m.\u001b[0m\u001b[0mformat\u001b[0m\u001b[0;34m(\u001b[0m\u001b[0mconf_file\u001b[0m\u001b[0;34m)\u001b[0m\u001b[0;34m\u001b[0m\u001b[0;34m\u001b[0m\u001b[0m\n\u001b[1;32m    119\u001b[0m     \u001b[0mmsg\u001b[0m \u001b[0;34m+=\u001b[0m \u001b[0;34m\"\\n- Simulation time: {}\"\u001b[0m\u001b[0;34m.\u001b[0m\u001b[0mformat\u001b[0m\u001b[0;34m(\u001b[0m\u001b[0mconfig\u001b[0m\u001b[0;34m[\u001b[0m\u001b[0;34m\"snn_config\"\u001b[0m\u001b[0;34m]\u001b[0m\u001b[0;34m[\u001b[0m\u001b[0;34m\"sim_time\"\u001b[0m\u001b[0;34m]\u001b[0m\u001b[0;34m)\u001b[0m\u001b[0;34m\u001b[0m\u001b[0;34m\u001b[0m\u001b[0m\n\u001b[0;32m--> 120\u001b[0;31m     \u001b[0mmsg\u001b[0m \u001b[0;34m+=\u001b[0m \u001b[0;34m\"\\n- Time step: {}\"\u001b[0m\u001b[0;34m.\u001b[0m\u001b[0mformat\u001b[0m\u001b[0;34m(\u001b[0m\u001b[0mconfig\u001b[0m\u001b[0;34m[\u001b[0m\u001b[0;34m\"snn_config\"\u001b[0m\u001b[0;34m]\u001b[0m\u001b[0;34m[\u001b[0m\u001b[0;34m\"time_step\"\u001b[0m\u001b[0;34m]\u001b[0m\u001b[0;34m)\u001b[0m\u001b[0;34m\u001b[0m\u001b[0;34m\u001b[0m\u001b[0m\n\u001b[0m\u001b[1;32m    121\u001b[0m     \u001b[0mmsg\u001b[0m \u001b[0;34m+=\u001b[0m \u001b[0;34m\"\\n- FT mode: {}\"\u001b[0m\u001b[0;34m.\u001b[0m\u001b[0mformat\u001b[0m\u001b[0;34m(\u001b[0m\u001b[0mconfig\u001b[0m\u001b[0;34m[\u001b[0m\u001b[0;34m\"snn_config\"\u001b[0m\u001b[0;34m]\u001b[0m\u001b[0;34m[\u001b[0m\u001b[0;34m\"mode\"\u001b[0m\u001b[0;34m]\u001b[0m\u001b[0;34m)\u001b[0m\u001b[0;34m\u001b[0m\u001b[0;34m\u001b[0m\u001b[0m\n\u001b[1;32m    122\u001b[0m     \u001b[0mmsg\u001b[0m \u001b[0;34m+=\u001b[0m \u001b[0;34m\"\\n- Framework: {}\"\u001b[0m\u001b[0;34m.\u001b[0m\u001b[0mformat\u001b[0m\u001b[0;34m(\u001b[0m\u001b[0mconfig\u001b[0m\u001b[0;34m[\u001b[0m\u001b[0;34m\"snn_config\"\u001b[0m\u001b[0;34m]\u001b[0m\u001b[0;34m[\u001b[0m\u001b[0;34m\"framework\"\u001b[0m\u001b[0;34m]\u001b[0m\u001b[0;34m)\u001b[0m\u001b[0;34m\u001b[0m\u001b[0;34m\u001b[0m\u001b[0m\n",
      "\u001b[0;31mKeyError\u001b[0m: 'time_step'"
     ]
    }
   ],
   "source": [
    "#!/usr/bin/env python3\n",
    "\"\"\"\n",
    "Script for testing the SNNNumpy class with sample data\n",
    "\"\"\"\n",
    "# Standard libraries\n",
    "import matplotlib.pyplot as plt\n",
    "import numpy as np\n",
    "# Local libraries\n",
    "import spikingFT.startup\n",
    "import spikingFT.utils. plotter\n",
    "\n",
    "# Instantiate a simulation handler and run spiking FT with sample data\n",
    "sim_handler = spikingFT.startup.startup('../config/test_radix4.json')\n",
    "nsamples = sim_handler.snn.nsamples\n",
    "real_spikes = sim_handler.output[:, 0][:]\n",
    "imag_spikes = sim_handler.output[:, 1][:]\n",
    "sft_modulus = np.sqrt(real_spikes**2 + imag_spikes**2)\n",
    "\n",
    "# Plot S-FT result and reference result\n",
    "kwargs = {}\n",
    "kwargs[\"plot_names\"] = [\"voltages\", \"spikes\", \"FT\"]\n",
    "kwargs[\"data\"] = [\n",
    "    sim_handler.snn.voltage,\n",
    "    (real_spikes, imag_spikes),\n",
    "    sft_modulus\n",
    "]\n",
    "sim_plotter = spikingFT.utils.plotter.SNNSimulationPlotter(**kwargs)\n",
    "sim_plotter()\n",
    "plt.show\n",
    "\n"
   ]
  },
  {
   "cell_type": "code",
   "execution_count": null,
   "id": "f098b635",
   "metadata": {},
   "outputs": [],
   "source": [
    "#!/usr/bin/env python3\n",
    "\"\"\"\n",
    "Script for testing the SNNNumpy class with sample data\n",
    "\"\"\"\n",
    "# Standard libraries\n",
    "import matplotlib.pyplot as plt\n",
    "import numpy as np\n",
    "# Local libraries\n",
    "import spikingFT.startup\n",
    "import spikingFT.utils. plotter\n",
    "\n",
    "# Instantiate a simulation handler and run spiking FT with sample data\n",
    "sim_handler = spikingFT.startup.startup('../config/test_experiment.json')\n",
    "nsamples = sim_handler.snn.nsamples\n",
    "real_spikes = sim_handler.output[:, 0][1:]\n",
    "imag_spikes = sim_handler.output[:, 1][1:]\n",
    "sft_modulus = np.sqrt(real_spikes**2 + imag_spikes**2)\n",
    "\n",
    "# Plot S-FT result and reference result\n",
    "kwargs = {}\n",
    "kwargs[\"plot_names\"] = [\"voltages\", \"spikes\", \"FT\"]\n",
    "kwargs[\"data\"] = [\n",
    "    sim_handler.snn.voltage,\n",
    "    (real_spikes, imag_spikes),\n",
    "    sft_modulus\n",
    "]\n",
    "sim_plotter = spikingFT.utils.plotter.SNNSimulationPlotter(**kwargs)\n",
    "sim_plotter()\n",
    "plt.show\n"
   ]
  },
  {
   "cell_type": "code",
   "execution_count": null,
   "id": "c6da0747",
   "metadata": {},
   "outputs": [],
   "source": []
  }
 ],
 "metadata": {
  "kernelspec": {
   "display_name": "Python 3",
   "language": "python",
   "name": "python3"
  },
  "language_info": {
   "codemirror_mode": {
    "name": "ipython",
    "version": 3
   },
   "file_extension": ".py",
   "mimetype": "text/x-python",
   "name": "python",
   "nbconvert_exporter": "python",
   "pygments_lexer": "ipython3",
   "version": "3.8.7"
  }
 },
 "nbformat": 4,
 "nbformat_minor": 5
}
